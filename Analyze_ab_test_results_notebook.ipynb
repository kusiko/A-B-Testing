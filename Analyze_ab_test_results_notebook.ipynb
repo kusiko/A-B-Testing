{
 "cells": [
  {
   "cell_type": "markdown",
   "metadata": {},
   "source": [
    "## Analyze A/B Test Results\n",
    "\n",
    "You may either submit your notebook through the workspace here, or you may work from your local machine and submit through the next page.  Either way assure that your code passes the project [RUBRIC](https://review.udacity.com/#!/projects/37e27304-ad47-4eb0-a1ab-8c12f60e43d0/rubric).  **Please save regularly.**\n",
    "\n",
    "This project will assure you have mastered the subjects covered in the statistics lessons.  The hope is to have this project be as comprehensive of these topics as possible.  Good luck!\n",
    "\n",
    "## Table of Contents\n",
    "- [Introduction](#intro)\n",
    "- [Part I - Probability](#probability)\n",
    "- [Part II - A/B Test](#ab_test)\n",
    "- [Part III - Regression](#regression)\n",
    "\n",
    "\n",
    "<a id='intro'></a>\n",
    "### Introduction\n",
    "\n",
    "A/B tests are very commonly performed by data analysts and data scientists.  It is important that you get some practice working with the difficulties of these \n",
    "\n",
    "For this project, you will be working to understand the results of an A/B test run by an e-commerce website.  Your goal is to work through this notebook to help the company understand if they should implement the new page, keep the old page, or perhaps run the experiment longer to make their decision.\n",
    "\n",
    "**As you work through this notebook, follow along in the classroom and answer the corresponding quiz questions associated with each question.** The labels for each classroom concept are provided for each question.  This will assure you are on the right track as you work through the project, and you can feel more confident in your final submission meeting the criteria.  As a final check, assure you meet all the criteria on the [RUBRIC](https://review.udacity.com/#!/projects/37e27304-ad47-4eb0-a1ab-8c12f60e43d0/rubric).\n",
    "\n",
    "<a id='probability'></a>\n",
    "#### Part I - Probability\n",
    "\n",
    "To get started, let's import our libraries."
   ]
  },
  {
   "cell_type": "code",
   "execution_count": 1,
   "metadata": {},
   "outputs": [],
   "source": [
    "import pandas as pd\n",
    "import numpy as np\n",
    "import random\n",
    "import matplotlib.pyplot as plt\n",
    "%matplotlib inline\n",
    "#We are setting the seed to assure you get the same answers on quizzes as we set up\n",
    "random.seed(42)"
   ]
  },
  {
   "cell_type": "markdown",
   "metadata": {},
   "source": [
    "`1.` Now, read in the `ab_data.csv` data. Store it in `df`.  **Use your dataframe to answer the questions in Quiz 1 of the classroom.**\n",
    "\n",
    "a. Read in the dataset and take a look at the top few rows here:"
   ]
  },
  {
   "cell_type": "code",
   "execution_count": 2,
   "metadata": {
    "scrolled": true
   },
   "outputs": [
    {
     "data": {
      "text/html": [
       "<div>\n",
       "<style scoped>\n",
       "    .dataframe tbody tr th:only-of-type {\n",
       "        vertical-align: middle;\n",
       "    }\n",
       "\n",
       "    .dataframe tbody tr th {\n",
       "        vertical-align: top;\n",
       "    }\n",
       "\n",
       "    .dataframe thead th {\n",
       "        text-align: right;\n",
       "    }\n",
       "</style>\n",
       "<table border=\"1\" class=\"dataframe\">\n",
       "  <thead>\n",
       "    <tr style=\"text-align: right;\">\n",
       "      <th></th>\n",
       "      <th>user_id</th>\n",
       "      <th>timestamp</th>\n",
       "      <th>group</th>\n",
       "      <th>landing_page</th>\n",
       "      <th>converted</th>\n",
       "    </tr>\n",
       "  </thead>\n",
       "  <tbody>\n",
       "    <tr>\n",
       "      <th>0</th>\n",
       "      <td>851104</td>\n",
       "      <td>2017-01-21 22:11:48.556739</td>\n",
       "      <td>control</td>\n",
       "      <td>old_page</td>\n",
       "      <td>0</td>\n",
       "    </tr>\n",
       "    <tr>\n",
       "      <th>1</th>\n",
       "      <td>804228</td>\n",
       "      <td>2017-01-12 08:01:45.159739</td>\n",
       "      <td>control</td>\n",
       "      <td>old_page</td>\n",
       "      <td>0</td>\n",
       "    </tr>\n",
       "    <tr>\n",
       "      <th>2</th>\n",
       "      <td>661590</td>\n",
       "      <td>2017-01-11 16:55:06.154213</td>\n",
       "      <td>treatment</td>\n",
       "      <td>new_page</td>\n",
       "      <td>0</td>\n",
       "    </tr>\n",
       "    <tr>\n",
       "      <th>3</th>\n",
       "      <td>853541</td>\n",
       "      <td>2017-01-08 18:28:03.143765</td>\n",
       "      <td>treatment</td>\n",
       "      <td>new_page</td>\n",
       "      <td>0</td>\n",
       "    </tr>\n",
       "    <tr>\n",
       "      <th>4</th>\n",
       "      <td>864975</td>\n",
       "      <td>2017-01-21 01:52:26.210827</td>\n",
       "      <td>control</td>\n",
       "      <td>old_page</td>\n",
       "      <td>1</td>\n",
       "    </tr>\n",
       "  </tbody>\n",
       "</table>\n",
       "</div>"
      ],
      "text/plain": [
       "   user_id                   timestamp      group landing_page  converted\n",
       "0   851104  2017-01-21 22:11:48.556739    control     old_page          0\n",
       "1   804228  2017-01-12 08:01:45.159739    control     old_page          0\n",
       "2   661590  2017-01-11 16:55:06.154213  treatment     new_page          0\n",
       "3   853541  2017-01-08 18:28:03.143765  treatment     new_page          0\n",
       "4   864975  2017-01-21 01:52:26.210827    control     old_page          1"
      ]
     },
     "execution_count": 2,
     "metadata": {},
     "output_type": "execute_result"
    }
   ],
   "source": [
    "df = pd.read_csv('ab_data.csv')\n",
    "df.head()"
   ]
  },
  {
   "cell_type": "markdown",
   "metadata": {},
   "source": [
    "b. Use the cell below to find the number of rows in the dataset."
   ]
  },
  {
   "cell_type": "code",
   "execution_count": 3,
   "metadata": {
    "scrolled": true
   },
   "outputs": [
    {
     "name": "stdout",
     "output_type": "stream",
     "text": [
      "<class 'pandas.core.frame.DataFrame'>\n",
      "RangeIndex: 294478 entries, 0 to 294477\n",
      "Data columns (total 5 columns):\n",
      "user_id         294478 non-null int64\n",
      "timestamp       294478 non-null object\n",
      "group           294478 non-null object\n",
      "landing_page    294478 non-null object\n",
      "converted       294478 non-null int64\n",
      "dtypes: int64(2), object(3)\n",
      "memory usage: 11.2+ MB\n"
     ]
    }
   ],
   "source": [
    "df.info()"
   ]
  },
  {
   "cell_type": "markdown",
   "metadata": {},
   "source": [
    "c. The number of unique users in the dataset."
   ]
  },
  {
   "cell_type": "code",
   "execution_count": 4,
   "metadata": {},
   "outputs": [
    {
     "data": {
      "text/plain": [
       "290584"
      ]
     },
     "execution_count": 4,
     "metadata": {},
     "output_type": "execute_result"
    }
   ],
   "source": [
    "df['user_id'].nunique()"
   ]
  },
  {
   "cell_type": "markdown",
   "metadata": {
    "collapsed": true
   },
   "source": [
    "d. The proportion of users converted."
   ]
  },
  {
   "cell_type": "code",
   "execution_count": 5,
   "metadata": {
    "scrolled": true
   },
   "outputs": [
    {
     "name": "stdout",
     "output_type": "stream",
     "text": [
      "12.0%\n"
     ]
    }
   ],
   "source": [
    "proportion = (round((df.query('converted==1').user_id.count() / df.user_id.count()),2))*100\n",
    "print(str(proportion)+\"%\")"
   ]
  },
  {
   "cell_type": "code",
   "execution_count": 6,
   "metadata": {
    "scrolled": true
   },
   "outputs": [
    {
     "name": "stdout",
     "output_type": "stream",
     "text": [
      "6.0%\n"
     ]
    }
   ],
   "source": [
    "proportion = (round((df.query('converted==1 & group == \"control\"').user_id.count() / df.user_id.count()),2))*100\n",
    "print(str(proportion)+\"%\")"
   ]
  },
  {
   "cell_type": "code",
   "execution_count": 7,
   "metadata": {},
   "outputs": [
    {
     "name": "stdout",
     "output_type": "stream",
     "text": [
      "6.0%\n"
     ]
    }
   ],
   "source": [
    "proportion = (round((df.query('converted==1 & group == \"treatment\"').user_id.count() / df.user_id.count()),2))*100\n",
    "print(str(proportion)+\"%\")"
   ]
  },
  {
   "cell_type": "markdown",
   "metadata": {
    "collapsed": true
   },
   "source": [
    "e. The number of times the `new_page` and `treatment` don't match."
   ]
  },
  {
   "cell_type": "code",
   "execution_count": 8,
   "metadata": {
    "scrolled": false
   },
   "outputs": [
    {
     "data": {
      "text/plain": [
       "3893"
      ]
     },
     "execution_count": 8,
     "metadata": {},
     "output_type": "execute_result"
    }
   ],
   "source": [
    "(df.query('landing_page != \"new_page\" & group == \"treatment\"').user_id.count()) + (df.query('landing_page == \"new_page\" & group != \"treatment\"').user_id.count())"
   ]
  },
  {
   "cell_type": "markdown",
   "metadata": {},
   "source": [
    "f. Do any of the rows have missing values?"
   ]
  },
  {
   "cell_type": "code",
   "execution_count": 9,
   "metadata": {},
   "outputs": [
    {
     "data": {
      "text/plain": [
       "False"
      ]
     },
     "execution_count": 9,
     "metadata": {},
     "output_type": "execute_result"
    }
   ],
   "source": [
    "df.isnull().sum().any()"
   ]
  },
  {
   "cell_type": "markdown",
   "metadata": {},
   "source": [
    "`2.` For the rows where **treatment** does not match with **new_page** or **control** does not match with **old_page**, we cannot be sure if this row truly received the new or old page.  Use **Quiz 2** in the classroom to figure out how we should handle these rows.  \n",
    "\n",
    "a. Now use the answer to the quiz to create a new dataset that meets the specifications from the quiz.  Store your new dataframe in **df2**."
   ]
  },
  {
   "cell_type": "code",
   "execution_count": 10,
   "metadata": {
    "scrolled": true
   },
   "outputs": [
    {
     "name": "stdout",
     "output_type": "stream",
     "text": [
      "<class 'pandas.core.frame.DataFrame'>\n",
      "Int64Index: 290585 entries, 0 to 294477\n",
      "Data columns (total 5 columns):\n",
      "user_id         290585 non-null int64\n",
      "timestamp       290585 non-null object\n",
      "group           290585 non-null object\n",
      "landing_page    290585 non-null object\n",
      "converted       290585 non-null int64\n",
      "dtypes: int64(2), object(3)\n",
      "memory usage: 13.3+ MB\n"
     ]
    }
   ],
   "source": [
    "df2 = df.copy()\n",
    "drop1 = df2.query('landing_page == \"new_page\" & group != \"treatment\"')\n",
    "drop2 = df2.query('landing_page != \"new_page\" & group == \"treatment\"')\n",
    "df2.drop(drop1.index, inplace = True)\n",
    "df2.drop(drop2.index, inplace = True)\n",
    "df2.info()"
   ]
  },
  {
   "cell_type": "code",
   "execution_count": 13,
   "metadata": {
    "scrolled": true
   },
   "outputs": [
    {
     "data": {
      "text/plain": [
       "3893"
      ]
     },
     "execution_count": 13,
     "metadata": {},
     "output_type": "execute_result"
    }
   ],
   "source": [
    "df.user_id.count() - df2.user_id.count() #checking that the difference btw dataframes matches the number of times the new_page and treatment don't match."
   ]
  },
  {
   "cell_type": "code",
   "execution_count": 14,
   "metadata": {},
   "outputs": [
    {
     "data": {
      "text/plain": [
       "0"
      ]
     },
     "execution_count": 14,
     "metadata": {},
     "output_type": "execute_result"
    }
   ],
   "source": [
    "# Double Check all of the correct rows were removed - this should be 0\n",
    "df2[((df2['group'] == 'treatment') == (df2['landing_page'] == 'new_page')) == False].shape[0]"
   ]
  },
  {
   "cell_type": "markdown",
   "metadata": {},
   "source": [
    "`3.` Use **df2** and the cells below to answer questions for **Quiz3** in the classroom."
   ]
  },
  {
   "cell_type": "markdown",
   "metadata": {},
   "source": [
    "a. How many unique **user_id**s are in **df2**?"
   ]
  },
  {
   "cell_type": "code",
   "execution_count": 15,
   "metadata": {},
   "outputs": [
    {
     "data": {
      "text/plain": [
       "290584"
      ]
     },
     "execution_count": 15,
     "metadata": {},
     "output_type": "execute_result"
    }
   ],
   "source": [
    "df2.user_id.nunique()"
   ]
  },
  {
   "cell_type": "markdown",
   "metadata": {
    "collapsed": true
   },
   "source": [
    "b. There is one **user_id** repeated in **df2**.  What is it?"
   ]
  },
  {
   "cell_type": "code",
   "execution_count": 38,
   "metadata": {},
   "outputs": [
    {
     "data": {
      "text/html": [
       "<div>\n",
       "<style scoped>\n",
       "    .dataframe tbody tr th:only-of-type {\n",
       "        vertical-align: middle;\n",
       "    }\n",
       "\n",
       "    .dataframe tbody tr th {\n",
       "        vertical-align: top;\n",
       "    }\n",
       "\n",
       "    .dataframe thead th {\n",
       "        text-align: right;\n",
       "    }\n",
       "</style>\n",
       "<table border=\"1\" class=\"dataframe\">\n",
       "  <thead>\n",
       "    <tr style=\"text-align: right;\">\n",
       "      <th></th>\n",
       "      <th>user_id</th>\n",
       "      <th>timestamp</th>\n",
       "      <th>group</th>\n",
       "      <th>landing_page</th>\n",
       "      <th>converted</th>\n",
       "    </tr>\n",
       "  </thead>\n",
       "  <tbody>\n",
       "    <tr>\n",
       "      <th>2893</th>\n",
       "      <td>773192</td>\n",
       "      <td>2017-01-14 02:55:59.590927</td>\n",
       "      <td>treatment</td>\n",
       "      <td>new_page</td>\n",
       "      <td>0</td>\n",
       "    </tr>\n",
       "  </tbody>\n",
       "</table>\n",
       "</div>"
      ],
      "text/plain": [
       "      user_id                   timestamp      group landing_page  converted\n",
       "2893   773192  2017-01-14 02:55:59.590927  treatment     new_page          0"
      ]
     },
     "execution_count": 38,
     "metadata": {},
     "output_type": "execute_result"
    }
   ],
   "source": [
    "df2[df2.duplicated(['user_id'])]"
   ]
  },
  {
   "cell_type": "markdown",
   "metadata": {},
   "source": [
    "c. What is the row information for the repeat **user_id**? "
   ]
  },
  {
   "cell_type": "code",
   "execution_count": 16,
   "metadata": {},
   "outputs": [
    {
     "data": {
      "text/html": [
       "<div>\n",
       "<style scoped>\n",
       "    .dataframe tbody tr th:only-of-type {\n",
       "        vertical-align: middle;\n",
       "    }\n",
       "\n",
       "    .dataframe tbody tr th {\n",
       "        vertical-align: top;\n",
       "    }\n",
       "\n",
       "    .dataframe thead th {\n",
       "        text-align: right;\n",
       "    }\n",
       "</style>\n",
       "<table border=\"1\" class=\"dataframe\">\n",
       "  <thead>\n",
       "    <tr style=\"text-align: right;\">\n",
       "      <th></th>\n",
       "      <th>user_id</th>\n",
       "      <th>timestamp</th>\n",
       "      <th>group</th>\n",
       "      <th>landing_page</th>\n",
       "      <th>converted</th>\n",
       "    </tr>\n",
       "  </thead>\n",
       "  <tbody>\n",
       "    <tr>\n",
       "      <th>2893</th>\n",
       "      <td>773192</td>\n",
       "      <td>2017-01-14 02:55:59.590927</td>\n",
       "      <td>treatment</td>\n",
       "      <td>new_page</td>\n",
       "      <td>0</td>\n",
       "    </tr>\n",
       "  </tbody>\n",
       "</table>\n",
       "</div>"
      ],
      "text/plain": [
       "      user_id                   timestamp      group landing_page  converted\n",
       "2893   773192  2017-01-14 02:55:59.590927  treatment     new_page          0"
      ]
     },
     "execution_count": 16,
     "metadata": {},
     "output_type": "execute_result"
    }
   ],
   "source": [
    "dup=df2.query('index==2893')\n",
    "dup"
   ]
  },
  {
   "cell_type": "markdown",
   "metadata": {},
   "source": [
    "d. Remove **one** of the rows with a duplicate **user_id**, but keep your dataframe as **df2**."
   ]
  },
  {
   "cell_type": "code",
   "execution_count": 17,
   "metadata": {},
   "outputs": [],
   "source": [
    "df2.drop(dup.index, inplace=True)"
   ]
  },
  {
   "cell_type": "code",
   "execution_count": 18,
   "metadata": {},
   "outputs": [
    {
     "data": {
      "text/plain": [
       "True"
      ]
     },
     "execution_count": 18,
     "metadata": {},
     "output_type": "execute_result"
    }
   ],
   "source": [
    "df2.user_id.nunique() == df2.user_id.count()  \n",
    "#checking that all of the values that we have remaining are unique\n"
   ]
  },
  {
   "cell_type": "markdown",
   "metadata": {},
   "source": [
    "`4.` Use **df2** in the cells below to answer the quiz questions related to **Quiz 4** in the classroom.\n",
    "\n",
    "a. What is the probability of an individual converting regardless of the page they receive?"
   ]
  },
  {
   "cell_type": "code",
   "execution_count": 19,
   "metadata": {},
   "outputs": [
    {
     "data": {
      "text/plain": [
       "0.11959708724499628"
      ]
     },
     "execution_count": 19,
     "metadata": {},
     "output_type": "execute_result"
    }
   ],
   "source": [
    "df2.query('converted==1').user_id.count()/df2.user_id.count()"
   ]
  },
  {
   "cell_type": "markdown",
   "metadata": {},
   "source": [
    "b. Given that an individual was in the `control` group, what is the probability they converted?"
   ]
  },
  {
   "cell_type": "markdown",
   "metadata": {},
   "source": [
    "c. Given that an individual was in the `treatment` group, what is the probability they converted?"
   ]
  },
  {
   "cell_type": "code",
   "execution_count": 76,
   "metadata": {
    "scrolled": true
   },
   "outputs": [
    {
     "data": {
      "text/html": [
       "<div>\n",
       "<style scoped>\n",
       "    .dataframe tbody tr th:only-of-type {\n",
       "        vertical-align: middle;\n",
       "    }\n",
       "\n",
       "    .dataframe tbody tr th {\n",
       "        vertical-align: top;\n",
       "    }\n",
       "\n",
       "    .dataframe thead th {\n",
       "        text-align: right;\n",
       "    }\n",
       "</style>\n",
       "<table border=\"1\" class=\"dataframe\">\n",
       "  <thead>\n",
       "    <tr style=\"text-align: right;\">\n",
       "      <th></th>\n",
       "      <th>user_id</th>\n",
       "      <th>converted</th>\n",
       "    </tr>\n",
       "    <tr>\n",
       "      <th>group</th>\n",
       "      <th></th>\n",
       "      <th></th>\n",
       "    </tr>\n",
       "  </thead>\n",
       "  <tbody>\n",
       "    <tr>\n",
       "      <th>control</th>\n",
       "      <td>788164.072594</td>\n",
       "      <td>0.120386</td>\n",
       "    </tr>\n",
       "    <tr>\n",
       "      <th>treatment</th>\n",
       "      <td>787845.719290</td>\n",
       "      <td>0.118808</td>\n",
       "    </tr>\n",
       "  </tbody>\n",
       "</table>\n",
       "</div>"
      ],
      "text/plain": [
       "                 user_id  converted\n",
       "group                              \n",
       "control    788164.072594   0.120386\n",
       "treatment  787845.719290   0.118808"
      ]
     },
     "execution_count": 76,
     "metadata": {},
     "output_type": "execute_result"
    }
   ],
   "source": [
    "df2.groupby('group').mean()"
   ]
  },
  {
   "cell_type": "markdown",
   "metadata": {},
   "source": [
    "d. What is the probability that an individual received the new page?"
   ]
  },
  {
   "cell_type": "code",
   "execution_count": 8,
   "metadata": {},
   "outputs": [
    {
     "data": {
      "text/plain": [
       "0.50006194422266881"
      ]
     },
     "execution_count": 8,
     "metadata": {},
     "output_type": "execute_result"
    }
   ],
   "source": [
    "df2.query('landing_page == \"new_page\"').user_id.count()/df2.user_id.count()\n"
   ]
  },
  {
   "cell_type": "markdown",
   "metadata": {},
   "source": [
    "e. Consider your results from parts (a) through (d) above, and explain below whether you think there is sufficient evidence to conclude that the new treatment page leads to more conversions."
   ]
  },
  {
   "cell_type": "markdown",
   "metadata": {},
   "source": [
    "**We don't have sufficient evidence to reject the null hypothesis.**"
   ]
  },
  {
   "cell_type": "markdown",
   "metadata": {},
   "source": [
    "<a id='ab_test'></a>\n",
    "### Part II - A/B Test\n",
    "\n",
    "Notice that because of the time stamp associated with each event, you could technically run a hypothesis test continuously as each observation was observed.  \n",
    "\n",
    "However, then the hard question is do you stop as soon as one page is considered significantly better than another or does it need to happen consistently for a certain amount of time?  How long do you run to render a decision that neither page is better than another?  \n",
    "\n",
    "These questions are the difficult parts associated with A/B tests in general.  \n",
    "\n",
    "\n",
    "`1.` For now, consider you need to make the decision just based on all the data provided.  If you want to assume that the old page is better unless the new page proves to be definitely better at a Type I error rate of 5%, what should your null and alternative hypotheses be?  You can state your hypothesis in terms of words or in terms of **$p_{old}$** and **$p_{new}$**, which are the converted rates for the old and new pages."
   ]
  },
  {
   "cell_type": "markdown",
   "metadata": {},
   "source": [
    "**~Response~\n",
    "<br>\n",
    "H0 = P > 0.05 --> p_new-p_old<=0  \n",
    "H1 = P < 0.05 --> p_new-p_old>0\n",
    "\n",
    "Our null hypothesis states that the old page is better or equal. \n",
    "<br>\n",
    "Type I error probability is Alpha of 0.05 (5%)\n",
    "<br>\n",
    "P is the probability of observing an effect granted that the null hypothesis is true.\n",
    "<br>\n",
    "Hence, if P is higher than Alpha that means that the results are statistically significant, and we fail to reject the null hypothesis."
   ]
  },
  {
   "cell_type": "markdown",
   "metadata": {},
   "source": [
    "`2.` Assume under the null hypothesis, $p_{new}$ and $p_{old}$ both have \"true\" success rates equal to the **converted** success rate regardless of page - that is $p_{new}$ and $p_{old}$ are equal. Furthermore, assume they are equal to the **converted** rate in **ab_data.csv** regardless of the page. <br><br>\n",
    "\n",
    "Use a sample size for each page equal to the ones in **ab_data.csv**.  <br><br>\n",
    "\n",
    "Perform the sampling distribution for the difference in **converted** between the two pages over 10,000 iterations of calculating an estimate from the null.  <br><br>\n",
    "\n",
    "Use the cells below to provide the necessary parts of this simulation.  If this doesn't make complete sense right now, don't worry - you are going to work through the problems below to complete this problem.  You can use **Quiz 5** in the classroom to make sure you are on the right track.<br><br>"
   ]
  },
  {
   "cell_type": "markdown",
   "metadata": {},
   "source": [
    "a. What is the **conversion rate** for $p_{new}$ under the null? "
   ]
  },
  {
   "cell_type": "code",
   "execution_count": 20,
   "metadata": {},
   "outputs": [
    {
     "data": {
      "text/plain": [
       "0.11959708724499628"
      ]
     },
     "execution_count": 20,
     "metadata": {},
     "output_type": "execute_result"
    }
   ],
   "source": [
    "pnew = df2.query('converted==1').user_id.count()/df2.user_id.count()\n",
    "pnew"
   ]
  },
  {
   "cell_type": "markdown",
   "metadata": {},
   "source": [
    "b. What is the **conversion rate** for $p_{old}$ under the null? <br><br>"
   ]
  },
  {
   "cell_type": "code",
   "execution_count": 21,
   "metadata": {},
   "outputs": [
    {
     "data": {
      "text/plain": [
       "0.11959708724499628"
      ]
     },
     "execution_count": 21,
     "metadata": {},
     "output_type": "execute_result"
    }
   ],
   "source": [
    "pold = df2.query('converted==1').user_id.count()/df2.user_id.count()\n",
    "pold"
   ]
  },
  {
   "cell_type": "markdown",
   "metadata": {},
   "source": [
    "c. What is $n_{new}$, the number of individuals in the treatment group?"
   ]
  },
  {
   "cell_type": "code",
   "execution_count": 22,
   "metadata": {},
   "outputs": [
    {
     "data": {
      "text/plain": [
       "145310"
      ]
     },
     "execution_count": 22,
     "metadata": {},
     "output_type": "execute_result"
    }
   ],
   "source": [
    "n_new = df2.query('group==\"treatment\"').user_id.count()\n",
    "n_new"
   ]
  },
  {
   "cell_type": "markdown",
   "metadata": {},
   "source": [
    "d. What is $n_{old}$, the number of individuals in the control group?"
   ]
  },
  {
   "cell_type": "code",
   "execution_count": 23,
   "metadata": {
    "scrolled": true
   },
   "outputs": [
    {
     "data": {
      "text/plain": [
       "145274"
      ]
     },
     "execution_count": 23,
     "metadata": {},
     "output_type": "execute_result"
    }
   ],
   "source": [
    "n_old = df2.query('group==\"control\"').user_id.count()\n",
    "n_old"
   ]
  },
  {
   "cell_type": "markdown",
   "metadata": {},
   "source": [
    "e. Simulate $n_{new}$ transactions with a conversion rate of $p_{new}$ under the null.  Store these $n_{new}$ 1's and 0's in **new_page_converted**."
   ]
  },
  {
   "cell_type": "code",
   "execution_count": 24,
   "metadata": {},
   "outputs": [
    {
     "data": {
      "text/plain": [
       "0.11954442226963044"
      ]
     },
     "execution_count": 24,
     "metadata": {},
     "output_type": "execute_result"
    }
   ],
   "source": [
    "new_page_converted = np.random.binomial(1,pnew,n_new)\n",
    "new_page_converted.mean()"
   ]
  },
  {
   "cell_type": "markdown",
   "metadata": {},
   "source": [
    "f. Simulate $n_{old}$ transactions with a conversion rate of $p_{old}$ under the null.  Store these $n_{old}$ 1's and 0's in **old_page_converted**."
   ]
  },
  {
   "cell_type": "code",
   "execution_count": 25,
   "metadata": {},
   "outputs": [
    {
     "data": {
      "text/plain": [
       "0.11925740325178628"
      ]
     },
     "execution_count": 25,
     "metadata": {},
     "output_type": "execute_result"
    }
   ],
   "source": [
    "old_page_converted = np.random.binomial(1,pold,n_old)\n",
    "old_page_converted.mean()"
   ]
  },
  {
   "cell_type": "markdown",
   "metadata": {},
   "source": [
    "g. Find $p_{new}$ - $p_{old}$ for your simulated values from part (e) and (f)."
   ]
  },
  {
   "cell_type": "code",
   "execution_count": 34,
   "metadata": {
    "scrolled": true
   },
   "outputs": [
    {
     "data": {
      "text/plain": [
       "0.00028701901784415618"
      ]
     },
     "execution_count": 34,
     "metadata": {},
     "output_type": "execute_result"
    }
   ],
   "source": [
    "new_page_converted.mean() - old_page_converted.mean()"
   ]
  },
  {
   "cell_type": "code",
   "execution_count": 38,
   "metadata": {
    "scrolled": true
   },
   "outputs": [
    {
     "data": {
      "text/html": [
       "<div>\n",
       "<style scoped>\n",
       "    .dataframe tbody tr th:only-of-type {\n",
       "        vertical-align: middle;\n",
       "    }\n",
       "\n",
       "    .dataframe tbody tr th {\n",
       "        vertical-align: top;\n",
       "    }\n",
       "\n",
       "    .dataframe thead th {\n",
       "        text-align: right;\n",
       "    }\n",
       "</style>\n",
       "<table border=\"1\" class=\"dataframe\">\n",
       "  <thead>\n",
       "    <tr style=\"text-align: right;\">\n",
       "      <th></th>\n",
       "      <th>user_id</th>\n",
       "      <th>converted</th>\n",
       "    </tr>\n",
       "    <tr>\n",
       "      <th>group</th>\n",
       "      <th></th>\n",
       "      <th></th>\n",
       "    </tr>\n",
       "  </thead>\n",
       "  <tbody>\n",
       "    <tr>\n",
       "      <th>control</th>\n",
       "      <td>788164.072594</td>\n",
       "      <td>0.120386</td>\n",
       "    </tr>\n",
       "    <tr>\n",
       "      <th>treatment</th>\n",
       "      <td>787845.719290</td>\n",
       "      <td>0.118808</td>\n",
       "    </tr>\n",
       "  </tbody>\n",
       "</table>\n",
       "</div>"
      ],
      "text/plain": [
       "                 user_id  converted\n",
       "group                              \n",
       "control    788164.072594   0.120386\n",
       "treatment  787845.719290   0.118808"
      ]
     },
     "execution_count": 38,
     "metadata": {},
     "output_type": "execute_result"
    }
   ],
   "source": [
    "df_grouped = df2.groupby('group').mean()\n",
    "df_grouped"
   ]
  },
  {
   "cell_type": "code",
   "execution_count": 41,
   "metadata": {},
   "outputs": [
    {
     "data": {
      "text/plain": [
       "-0.0015782389853555567"
      ]
     },
     "execution_count": 41,
     "metadata": {},
     "output_type": "execute_result"
    }
   ],
   "source": [
    "control_converted = df_grouped.query('group == \"control\"')['converted'].mean()\n",
    "treatment_converted = df_grouped.query('group == \"treatment\"')['converted'].mean()\n",
    "actual_diff = treatment_converted - control_converted\n",
    "actual_diff"
   ]
  },
  {
   "cell_type": "markdown",
   "metadata": {},
   "source": [
    "h. Create 10,000 $p_{new}$ - $p_{old}$ values using the same simulation process you used in parts (a) through (g) above. Store all 10,000 values in a NumPy array called **p_diffs**."
   ]
  },
  {
   "cell_type": "code",
   "execution_count": 27,
   "metadata": {},
   "outputs": [
    {
     "data": {
      "text/plain": [
       "[-0.00093817681325636393,\n",
       " 0.00068592521239130289,\n",
       " -0.00033939885263355174,\n",
       " -0.0013166199661150679,\n",
       " 0.00086515146198497261,\n",
       " -0.00010524408994200263,\n",
       " 0.0023239921495781524,\n",
       " 0.0025582765205342944,\n",
       " -0.00051843580594602978,\n",
       " 0.00098235077742177268,\n",
       " -0.0011309979086863292,\n",
       " -0.00058711435372335585,\n",
       " 0.00036269025362249685,\n",
       " 0.0011886592802582002,\n",
       " 0.00053475498339680683,\n",
       " 0.0010718607272185016,\n",
       " -0.0011377433177614527,\n",
       " -0.00076608650290352354,\n",
       " 0.0011956963079286648,\n",
       " -0.0016125390356904606,\n",
       " -0.0017089973338187264,\n",
       " 0.0013539001538498407,\n",
       " -0.00043563545241447066,\n",
       " 0.0017187126480622955,\n",
       " -0.00098606829868376489,\n",
       " -0.00025689352844115998,\n",
       " -0.00049790796012529059,\n",
       " -0.00089693182533372162,\n",
       " -0.00064892129490476402,\n",
       " 0.0014226980776603504,\n",
       " -0.0010962135327310801,\n",
       " -0.00079356610779959813,\n",
       " -5.7255398316150008e-05,\n",
       " -0.0017847708919112304,\n",
       " -0.00017406588895915731,\n",
       " -0.00015361478487406488,\n",
       " 0.0018150191680912225,\n",
       " 0.00094754423163179169,\n",
       " 0.0024687017666052691,\n",
       " 0.00051401226071633166,\n",
       " 0.0019527753206710907,\n",
       " 0.00078936767166105926,\n",
       " -0.0017157171623153195,\n",
       " 0.0022004498928352295,\n",
       " 0.00036953286889607195,\n",
       " -0.001337284241688011,\n",
       " -2.1137137304338971e-06,\n",
       " 0.00034901354993487066,\n",
       " 0.00096832276712219278,\n",
       " 0.00067920538389472374,\n",
       " -0.0015302247131511598,\n",
       " -0.00061464000366077964,\n",
       " -0.001144802515266663,\n",
       " 6.6636459666799541e-05,\n",
       " -2.3524657968149176e-06,\n",
       " -0.00083516581307797877,\n",
       " 0.00010781493808524611,\n",
       " -0.0025279736724534013,\n",
       " 0.00061747347907703531,\n",
       " -0.00044247295157233413,\n",
       " -0.0006833987039175371,\n",
       " -0.001839854593852247,\n",
       " 0.0013743597847944572,\n",
       " 0.0002938735707210538,\n",
       " 0.0005483617668364249,\n",
       " -0.00033217593942569401,\n",
       " 0.00058989496261059593,\n",
       " -0.0017913969249531564,\n",
       " 0.0010094262091769196,\n",
       " -0.00015322425470834511,\n",
       " 0.0018906767608943276,\n",
       " 0.001181670003000998,\n",
       " -0.0012961057632695783,\n",
       " 0.00055530329368035092,\n",
       " -0.0020600990169055006,\n",
       " -0.0026657144766861623,\n",
       " 0.00040387555352854043,\n",
       " -0.0004565180155909343,\n",
       " -0.00097249562268218737,\n",
       " -0.00024969278506802028,\n",
       " 0.00047970709426572999,\n",
       " -0.0016676278537472028,\n",
       " 0.001044174772322215,\n",
       " -0.0015229898623399796,\n",
       " -0.00040805011446043427,\n",
       " 0.00028727823437336986,\n",
       " -0.00014644644356708036,\n",
       " 0.00050730095907927653,\n",
       " 0.0016839879601236313,\n",
       " -0.0017157461536376484,\n",
       " 0.00062435190716055022,\n",
       " -6.4098013589725111e-05,\n",
       " -0.00076631331736658204,\n",
       " -0.0001259492944405971,\n",
       " -0.00035973399142927298,\n",
       " -0.00066927519279141867,\n",
       " 0.0015876456272847644,\n",
       " 0.0010510583165214554,\n",
       " 0.001319255618390594,\n",
       " 0.00052805391399114721,\n",
       " -0.0023148225543434264,\n",
       " -0.00055959381990161594,\n",
       " -0.00040839801032857559,\n",
       " -0.0009932622205692937,\n",
       " 0.00012169287565738651,\n",
       " 0.0010989208106265136,\n",
       " 0.00054132303379404723,\n",
       " 0.00047952120872833681,\n",
       " -5.004101196778854e-05,\n",
       " 0.00082368989183069508,\n",
       " -0.00042901112474444392,\n",
       " -0.00089679198483770539,\n",
       " 0.00097517561462719116,\n",
       " 0.0002043056382796532,\n",
       " 3.9197783696404143e-05,\n",
       " -0.00011219755438925116,\n",
       " -0.00060757569003988543,\n",
       " 0.00016283213052206702,\n",
       " 0.00056239659862361568,\n",
       " -0.00082819700028359533,\n",
       " -0.00013286012459028107,\n",
       " 0.00049340255704430347,\n",
       " 0.0023657811511377247,\n",
       " 0.00098226550882665742,\n",
       " 0.00036256917221741403,\n",
       " 0.00025968095881601094,\n",
       " 0.00074103278953896456,\n",
       " -9.1797327232551185e-06,\n",
       " 0.00030751616697063944,\n",
       " 0.0007207436957846064,\n",
       " 5.9592610508710231e-05,\n",
       " 0.000582931265931938,\n",
       " 0.00079610114313286018,\n",
       " 0.00054145605280245257,\n",
       " 0.0002869985533813374,\n",
       " 0.0039140465199324903,\n",
       " 0.00065164221577541925,\n",
       " 0.0015602103620581675,\n",
       " 0.00054847773212579609,\n",
       " -0.0027757710313945361,\n",
       " 0.0014159270880066965,\n",
       " 0.00075474360066464519,\n",
       " 0.00031472714257518852,\n",
       " -0.00012604479526714951,\n",
       " 0.00050035090537582649,\n",
       " 0.00025955476129523036,\n",
       " 0.00056230450854087566,\n",
       " 0.0016910983187859163,\n",
       " -0.0001743762666454457,\n",
       " -0.0013717394808660521,\n",
       " 0.00082380074100436851,\n",
       " 0.0024413091356762368,\n",
       " 0.00052093673384125128,\n",
       " -0.00044969927552400424,\n",
       " -0.00018116942613383147,\n",
       " 0.0003835301825014098,\n",
       " 0.00033509297806515181,\n",
       " -0.00020167851286362337,\n",
       " 0.0010850701590048029,\n",
       " -0.00095879845453172852,\n",
       " 0.0015189687848793237,\n",
       " 0.00049367371117681191,\n",
       " 0.0008445792764947696,\n",
       " 0.00040413647542965336,\n",
       " -0.00047008557547680019,\n",
       " -8.4342767674619457e-05,\n",
       " -0.00042912026854620422,\n",
       " -0.00051117878530010374,\n",
       " 0.00065175306494910656,\n",
       " -0.0010484090212706937,\n",
       " 0.00055547894698632083,\n",
       " 0.00089968344289863278,\n",
       " -0.00045642251476439577,\n",
       " 0.0017258076583774734,\n",
       " 0.00031439118431036972,\n",
       " 0.00022513874567094139,\n",
       " -0.0019982835488645684,\n",
       " -0.0013785138812635184,\n",
       " -0.00054588471414783457,\n",
       " 0.00024561543033457811,\n",
       " -0.0012064031064478453,\n",
       " 0.0014020593826659655,\n",
       " 0.0007962955555297635,\n",
       " -0.0014128633873836116,\n",
       " -0.00074554501410759033,\n",
       " -0.0012547652745203836,\n",
       " -4.3594042975630964e-05,\n",
       " -0.00020860469136042836,\n",
       " -0.001467921508746084,\n",
       " -0.00079361044746906195,\n",
       " 0.00012167582193835236,\n",
       " -2.9668354990228241e-05,\n",
       " 0.00094098811883785993,\n",
       " -0.00057364229466404237,\n",
       " -0.0016607084967380087,\n",
       " -0.0012685545327535963,\n",
       " 0.001367539339355614,\n",
       " 0.00023222181838278289,\n",
       " -0.00046313722714526329,\n",
       " -0.0019084870965881962,\n",
       " 0.0013675274017522915,\n",
       " -0.0021634289216296704,\n",
       " 0.0025375951912423311,\n",
       " -0.00032572726506162331,\n",
       " -0.00042880989085991583,\n",
       " -0.0011034859017241133,\n",
       " -0.00031854357540753164,\n",
       " 0.00027300294514791268,\n",
       " 7.3569459651215419e-05,\n",
       " 0.001319409101861832,\n",
       " 0.00054161976850511384,\n",
       " -0.00077990304708716596,\n",
       " 0.00065835522278440139,\n",
       " 0.000183694229235698,\n",
       " -0.00010544873457032922,\n",
       " -0.0027483323554241268,\n",
       " -0.00057333191697775399,\n",
       " -0.00088995619105174117,\n",
       " -0.00038063360832478466,\n",
       " 0.00014948285823972174,\n",
       " -0.00015338114892339549,\n",
       " 0.0027232769366876686,\n",
       " -0.00027738556145191773,\n",
       " 0.00047939501120755623,\n",
       " -0.00024965867762997973,\n",
       " -0.0010826135707790591,\n",
       " -0.00046318668293043874,\n",
       " 0.0010577082247700265,\n",
       " -0.0023903641818571603,\n",
       " -0.0016538573546049234,\n",
       " 0.001869886287800604,\n",
       " -0.0012684061653980699,\n",
       " -9.8517439957812591e-05,\n",
       " -2.2740471121523997e-05,\n",
       " -0.00097938257762524017,\n",
       " 0.0014640402717814444,\n",
       " 0.00095441754359960884,\n",
       " -0.0013580116160213374,\n",
       " 0.00030770205250801874,\n",
       " 0.00123697881403316,\n",
       " -0.00046317986144282786,\n",
       " -0.00027044915072370335,\n",
       " -0.00066265427586517656,\n",
       " 0.00082379050877295912,\n",
       " -0.00078667403674083369,\n",
       " -3.6251753734589665e-05,\n",
       " 0.00025264222577364714,\n",
       " -0.00018129221291082742,\n",
       " -0.0001192277605721187,\n",
       " 0.0018769011456363505,\n",
       " -0.00045613260154094004,\n",
       " 0.00020442842505663528,\n",
       " 0.00090635893172574811,\n",
       " -0.0001258844903083145,\n",
       " -0.0010484840576344273,\n",
       " -0.0012615635501244948,\n",
       " 0.00095458808078986712,\n",
       " -0.0012137010560194367,\n",
       " -0.00027715022012934909,\n",
       " 0.0011471823617567878,\n",
       " -0.00015358749892360746,\n",
       " 0.00046594171123916228,\n",
       " 0.0023176372706687348,\n",
       " 0.00072725546890907433,\n",
       " -0.0009656615342681224,\n",
       " -0.0004493871924658166,\n",
       " -0.0017023730061486858,\n",
       " 0.0010923067151878824,\n",
       " 0.0012094821554180651,\n",
       " 0.0015670291021250976,\n",
       " -0.00036006824432219253,\n",
       " 5.9918336542119643e-05,\n",
       " -7.7668984219389503e-05,\n",
       " -0.0013028938066422663,\n",
       " 0.00065852064385896192,\n",
       " 0.0013332614588554559,\n",
       " 0.0013677729753062834,\n",
       " 0.0002732297596109573,\n",
       " 0.00056926308910383583,\n",
       " 0.00098883526459579707,\n",
       " -0.0015574331639147121,\n",
       " -0.00096572974914423126,\n",
       " -0.00047015720109672143,\n",
       " 0.00021827054981882199,\n",
       " 0.00085135197152033659,\n",
       " 0.000631146772020863,\n",
       " -0.00046324978169083597,\n",
       " 4.8295184853913709e-06,\n",
       " 0.00077571654855196348,\n",
       " 0.00023884785142472276,\n",
       " 0.00033508786194944018,\n",
       " -0.00016724203277651561,\n",
       " -0.00063524970733283559,\n",
       " 0.0017461393864293823,\n",
       " 0.00040396934898319359,\n",
       " -0.00055260624801632685,\n",
       " -0.00075917226201004107,\n",
       " -0.0025210372617252008,\n",
       " -0.0019775118348617643,\n",
       " 0.00080355257617567566,\n",
       " 0.0010439922975286342,\n",
       " -0.0025624596083256984,\n",
       " -0.00042199115079298577,\n",
       " -0.0013718162226016711,\n",
       " -0.0023835266826992968,\n",
       " 0.00073446132839791178,\n",
       " 0.00051423225369177927,\n",
       " 0.00072743623833075588,\n",
       " 5.9635244806288679e-05,\n",
       " 0.00014257543883385015,\n",
       " 0.0017120661505575369,\n",
       " 0.0019252070364360885,\n",
       " 0.0001631408028364284,\n",
       " -0.00087628971959552437,\n",
       " -0.0006695975080810157,\n",
       " -0.0010070463626867809,\n",
       " -0.00071104202451625909,\n",
       " 0.00019769665895673361,\n",
       " -0.0008968397352509816,\n",
       " 0.00041111210971161993,\n",
       " 0.0010851895350379864,\n",
       " -0.0011239659971315624,\n",
       " 0.00043828133692142002,\n",
       " -0.00011231010893483773,\n",
       " 0.00069991399913711672,\n",
       " 0.0011678534588173417,\n",
       " 0.0027443931358148016,\n",
       " 0.0010782923478635381,\n",
       " 0.00099561307573706181,\n",
       " 0.00046572853975132555,\n",
       " 0.00096799704108879725,\n",
       " 0.0011609972005685448,\n",
       " 0.00097524553487519927,\n",
       " -0.00076602510951503944,\n",
       " 0.00065184003891612108,\n",
       " -0.00089673570756491905,\n",
       " -0.0018192892298496549,\n",
       " -0.0010760352881503954,\n",
       " 0.0011195765593399326,\n",
       " -0.00035277370549441356,\n",
       " 0.00012867021531126621,\n",
       " -0.001413172059697973,\n",
       " -0.0012891932277479951,\n",
       " -0.0006560657610051035,\n",
       " -0.00018101423729070809,\n",
       " 0.00077569267334531844,\n",
       " -0.00075900854630737979,\n",
       " 0.00023196260185359696,\n",
       " -0.00071071288773905117,\n",
       " 0.001154348997691873,\n",
       " 0.00026644683235398092,\n",
       " -0.00097938087225332704,\n",
       " 0.0010854453408234016,\n",
       " 0.0012712106494919689,\n",
       " -0.0001052867242395672,\n",
       " 0.0004383938914669927,\n",
       " 0.0015053654121835042,\n",
       " 0.00082383825918623532,\n",
       " -0.0012891096645247652,\n",
       " -0.00087600151174398178,\n",
       " -0.001963688469190511,\n",
       " -0.00046344760483155167,\n",
       " -0.00020156084220235293,\n",
       " -0.00093120800046199437,\n",
       " 0.00021812218246329562,\n",
       " 0.0021111070694849743,\n",
       " 4.6001175416227058e-05,\n",
       " -0.0012340157303523253,\n",
       " 0.00032844477518849391,\n",
       " -0.002727494131917127,\n",
       " -0.0015781144932066615,\n",
       " 0.00071378682059355936,\n",
       " -6.3971816068916776e-05,\n",
       " 0.00071348838051059349,\n",
       " -7.7798592483996343e-05,\n",
       " 0.00078957913777698285,\n",
       " 0.00045213539928692925,\n",
       " 0.0010578412437784318,\n",
       " 0.0016565629271284577,\n",
       " -0.00086253797954416456,\n",
       " 0.00052077301813859,\n",
       " 0.0010303821033452037,\n",
       " -0.00077966088427700031,\n",
       " 0.0009133942540243134,\n",
       " -0.0019912721017726343,\n",
       " 0.0019525979619932216,\n",
       " -0.001110125577741275,\n",
       " -0.00085569706964250258,\n",
       " -0.00071785394309557826,\n",
       " -0.00012589131179592539,\n",
       " -0.00069006737125704154,\n",
       " -0.00015362672247737352,\n",
       " 0.00021822279940554579,\n",
       " 0.001656764161012958,\n",
       " -0.0011860168064950494,\n",
       " -0.0015298324776135686,\n",
       " -0.001475154654185365,\n",
       " 0.00070665940821224016,\n",
       " 0.0010096069785986012,\n",
       " 0.00054143899908343229,\n",
       " -0.001922423016805036,\n",
       " 0.0016082365718658731,\n",
       " 0.00019077559657564025,\n",
       " 0.00071369131976702083,\n",
       " 0.0013743649009101688,\n",
       " 0.00023903885307782757,\n",
       " -0.00016015384394896248,\n",
       " 0.00023879839563956118,\n",
       " -0.002871922362580312,\n",
       " 0.00096104187126964946,\n",
       " 2.5186827115858401e-05,\n",
       " -0.00022222852851909447,\n",
       " 0.0012092297603764762,\n",
       " -0.00067667375930526019,\n",
       " -0.00016715335343757409,\n",
       " -0.0027967064611000014,\n",
       " 0.0019936348945437388,\n",
       " 0.0013332154138140789,\n",
       " 0.0010027370773745686,\n",
       " -5.0220076017584714e-05,\n",
       " -0.0020739547846428952,\n",
       " 0.0012986766114128079,\n",
       " -0.0010962834529790882,\n",
       " -0.00084157185314447103,\n",
       " 4.8175808820688504e-06,\n",
       " -0.00012607037584569381,\n",
       " 0.0014570833965903834,\n",
       " -0.00047010603993964672,\n",
       " 0.00043117268363102035,\n",
       " -0.00058717233636804145,\n",
       " 0.00036954310112749522,\n",
       " 0.0013540468158334679,\n",
       " 0.00035575384289428247,\n",
       " 0.00043148988280491962,\n",
       " 0.0019801184958149476,\n",
       " -0.00078645574913729921,\n",
       " -0.00069732609727486683,\n",
       " -0.00097938598836903867,\n",
       " 1.1510123428204455e-05,\n",
       " 0.0014638219841779099,\n",
       " -0.0012133702138703156,\n",
       " -0.0017986880530371369,\n",
       " -0.00092449499345301223,\n",
       " -6.3929181771366084e-05,\n",
       " -0.0019771673497374354,\n",
       " 0.00025935523278261541,\n",
       " -0.00049062535890084802,\n",
       " 0.001209366190128694,\n",
       " -0.0011997856002654295,\n",
       " -0.0004836360816436458,\n",
       " 0.00070662700614609886,\n",
       " -0.00074551602278524753,\n",
       " 3.9046005597065392e-05,\n",
       " -0.00039433248184714276,\n",
       " -0.00097258600739304202,\n",
       " -0.0018262222298340847,\n",
       " -0.0006356078354323863,\n",
       " -0.00099335942676773148,\n",
       " 0.00014940611650410274,\n",
       " 0.00025949336790673239,\n",
       " 0.0025030717371881811,\n",
       " 0.00011496452030128335,\n",
       " 0.0016223310916696487,\n",
       " 0.0019869389412537908,\n",
       " -0.0004217660417018404,\n",
       " -0.001461087420332019,\n",
       " 0.0018839467001663251,\n",
       " -0.00016733582823115489,\n",
       " -0.00060113383716342561,\n",
       " 0.00033498724500719002,\n",
       " -0.00029114582836278768,\n",
       " -0.00098621666603929126,\n",
       " 0.00085128887275995324,\n",
       " -0.0016195521881543079,\n",
       " -0.0031131158583142388,\n",
       " 0.00056913177546731586,\n",
       " 0.00045892344265961726,\n",
       " 0.00073451078418308724,\n",
       " 0.00075509661264848427,\n",
       " 0.00097497096999887845,\n",
       " -0.00067015004857746974,\n",
       " 0.00088565372722715363,\n",
       " 0.0023380593834314845,\n",
       " -0.00099997352220634883,\n",
       " 8.0326806329661382e-05,\n",
       " -2.1887500941536464e-06,\n",
       " 0.00047288664882690068,\n",
       " 0.0010440434586857089,\n",
       " 0.0010576758227038852,\n",
       " -0.00089664361748216515,\n",
       " -0.00013292833946638993,\n",
       " -0.0021357071539234301,\n",
       " -0.0012065787597538291,\n",
       " -0.00055970807981910176,\n",
       " -0.0008624237196267065,\n",
       " 0.0015672269252657994,\n",
       " 0.00069284286402858386,\n",
       " -0.00021506189258400921,\n",
       " -0.00033934428073266465,\n",
       " 0.0015670632095631382,\n",
       " -0.00029817944528945373,\n",
       " -0.00084164688950819078,\n",
       " -8.7755595823274524e-06,\n",
       " -0.001151153983432282,\n",
       " -0.0012890960215495434,\n",
       " -0.00033939714726163861,\n",
       " -0.00089685508359810262,\n",
       " 0.0013196052196306346,\n",
       " 0.0017116687989042062,\n",
       " 0.00017698463297051437,\n",
       " -0.00069033170390196685,\n",
       " -0.00054577557034607427,\n",
       " 0.00043123578239143145,\n",
       " 3.91415064236178e-05,\n",
       " -0.00023617979708304149,\n",
       " 0.00025938763484877059,\n",
       " -0.00057330633639920969,\n",
       " -0.00077991327931858923,\n",
       " 0.0013675666253060575,\n",
       " 0.0016497305440862919,\n",
       " -0.00022921610040438356,\n",
       " -2.3115368711495998e-06,\n",
       " 0.0010097553459541275,\n",
       " -0.0020530023012184234,\n",
       " -0.0024660592928421321,\n",
       " -0.0023009684919779172,\n",
       " 0.0012159376512697329,\n",
       " 0.00025248192081479826,\n",
       " -0.0015576343977992124,\n",
       " -0.0012617153282238197,\n",
       " 0.00019756022920452976,\n",
       " 0.00022483348410036463,\n",
       " 0.0020351749118055346,\n",
       " -0.0025759606587073686,\n",
       " -6.4034914829327882e-05,\n",
       " 0.00098224504436381088,\n",
       " -0.0023076269270859984,\n",
       " 0.00092692600110022561,\n",
       " -0.0004492234767631692,\n",
       " -0.00049068845766124525,\n",
       " 0.0011195816754556442,\n",
       " 0.00027996323108275822,\n",
       " 0.0027441799643269787,\n",
       " 8.7501969124242907e-05,\n",
       " -0.00066981067956883855,\n",
       " -0.0010621420022311201,\n",
       " 0.00061733193320910595,\n",
       " -0.00061485146977671712,\n",
       " -8.4625859410436544e-05,\n",
       " -0.00020151479716097598,\n",
       " 0.0024894905343270934,\n",
       " 0.00016999535571332602,\n",
       " 0.0030676622020216621,\n",
       " 0.00047961329881109072,\n",
       " 0.0011126213895207848,\n",
       " 3.8911281216760796e-05,\n",
       " 0.00087880087972216914,\n",
       " 0.0012505327309438041,\n",
       " 0.0020970671215820719,\n",
       " -0.00014662039150115103,\n",
       " -0.00061434667969353929,\n",
       " -0.00036691597571147927,\n",
       " -0.00049779370020781866,\n",
       " 0.0022831018790112623,\n",
       " -0.0001122026705049628,\n",
       " -0.00029128396348690466,\n",
       " 0.0003281514512212258,\n",
       " -0.00086237596921343029,\n",
       " 0.0017529103760830361,\n",
       " 0.0021522804317876953,\n",
       " 0.0014845305994203029,\n",
       " 0.0022554449154373185,\n",
       " 0.00096821703406423099,\n",
       " -0.00072499670382403236,\n",
       " -0.0010274770023090546,\n",
       " -0.0001603294972549324,\n",
       " 0.0012297269095029595,\n",
       " 0.0016773602217097922,\n",
       " -0.00060789971070138171,\n",
       " -0.0013234745189919656,\n",
       " 0.00074803570977138856,\n",
       " -0.0018880308763873782,\n",
       " -0.00069032147167054358,\n",
       " 0.00057596927462519321,\n",
       " 0.00048680380995279326,\n",
       " -0.0025555146707379739,\n",
       " -0.0013787475172141878,\n",
       " 8.0519513354651573e-05,\n",
       " 0.0002250074320344353,\n",
       " 0.00078250629729655075,\n",
       " 0.00016973954992792473,\n",
       " -0.00049083511964485849,\n",
       " 0.00069293324873942463,\n",
       " -0.00054579944555270543,\n",
       " 0.00027319906291671525,\n",
       " 0.0011268574551924898,\n",
       " 0.000349146568943276,\n",
       " 0.00016992031934960627,\n",
       " -0.0014752211636895607,\n",
       " 0.00083090768892285505,\n",
       " 2.5739367612298558e-05,\n",
       " -8.4784458997386181e-05,\n",
       " -0.00084849632626937677,\n",
       " 0.0010511043615628324,\n",
       " -0.0020119244397422548,\n",
       " 0.00076209782750902288,\n",
       " 0.001119840891984844,\n",
       " 0.00052792089498272798,\n",
       " 0.00061027444107579487,\n",
       " 0.00072069423999944482,\n",
       " -7.1005432995596696e-05,\n",
       " 2.5461391992179228e-05,\n",
       " 0.00090646637015562304,\n",
       " -0.00086267611466828154,\n",
       " 0.00074117433540688005,\n",
       " -0.00013297779525156539,\n",
       " -0.0019498105316183567,\n",
       " 0.0003419390040825393,\n",
       " 0.00025238300924443346,\n",
       " -0.0004426724800849352,\n",
       " -0.00026386575197932804,\n",
       " 0.0025306383160512841,\n",
       " 0.0009062054482545101,\n",
       " -0.00013293516095400082,\n",
       " 0.00067223998184416656,\n",
       " -0.00016031244353589824,\n",
       " 0.00044533030219522096,\n",
       " -0.0013236262970913043,\n",
       " -0.00031190389939037,\n",
       " -0.00053898070548577537,\n",
       " -0.0018190641207585095,\n",
       " 0.00010814919097815179,\n",
       " -0.0019225082854001652,\n",
       " -0.00038066089427521432,\n",
       " 0.00044536952574895927,\n",
       " -0.00069050565183603752,\n",
       " 0.0012023104033672821,\n",
       " -0.00030496407791834323,\n",
       " -0.0013717411862379514,\n",
       " 0.001112899365140918,\n",
       " 0.001002863274895377,\n",
       " -0.0011309075239754884,\n",
       " 0.00063110925383899619,\n",
       " -3.6512675635688718e-05,\n",
       " -0.00011243119033992055,\n",
       " -0.0010001321217932985,\n",
       " -0.0023698550951273684,\n",
       " -0.00071765953069868882,\n",
       " -2.1580533998977192e-06,\n",
       " -0.00050474887002698032,\n",
       " 0.00094768236675589479,\n",
       " 0.0010712894276311141,\n",
       " 0.0010442856214958884,\n",
       " 0.00025923074063373408,\n",
       " 9.4126296794283526e-05,\n",
       " 0.0013469211088240479,\n",
       " -0.0019362190965258458,\n",
       " -0.00085559474732835317,\n",
       " -0.0005938665842860763,\n",
       " 1.8524981263964846e-05,\n",
       " -0.00033240275388873863,\n",
       " -0.0004630536639220334,\n",
       " 0.0020558971700231493,\n",
       " -0.002886105561723043,\n",
       " 0.00023201546838257092,\n",
       " -0.0017778805262243791,\n",
       " -0.001289246094276969,\n",
       " -0.00016715335343757409,\n",
       " 0.0005485732329523485,\n",
       " -0.00061460419085082596,\n",
       " -8.4733297840311472e-05,\n",
       " -0.00018122399803471856,\n",
       " -0.00027745548169992584,\n",
       " -0.0006833697125951943,\n",
       " -0.00042176774707373965,\n",
       " 8.0456414594254344e-05,\n",
       " -0.00044939571932532674,\n",
       " 0.0017392302616515976,\n",
       " 0.0013194483254155981,\n",
       " 0.00065868606493350856,\n",
       " -4.3641793388921046e-05,\n",
       " 0.00063826395217075893,\n",
       " 0.0010579776735306495,\n",
       " -0.0011380161772658881,\n",
       " -0.00047026463952658248,\n",
       " 0.0011815489215959013,\n",
       " 0.00019068862260859798,\n",
       " 0.00092705560936483244,\n",
       " 0.0012162497343279205,\n",
       " 0.00019017189492209763,\n",
       " -0.00062126433133082026,\n",
       " 0.0024275403419058705,\n",
       " 0.0014569469668381796,\n",
       " -0.002197473166179173,\n",
       " -1.5809176509007372e-05,\n",
       " 0.0020076373242647744,\n",
       " -0.0016264255001221251,\n",
       " 0.0010786197792688329,\n",
       " 0.0011403465679708374,\n",
       " 0.00027327751002421963,\n",
       " -0.0012893876401448845,\n",
       " 0.00069988500781477392,\n",
       " 0.00093399372546495996,\n",
       " 0.00066515690913231118,\n",
       " -0.001013735494489118,\n",
       " -0.00026386575197932804,\n",
       " -6.3791046647249106e-05,\n",
       " 0.00081684216044142222,\n",
       " -0.0010346641027069586,\n",
       " -0.00051142265348218252,\n",
       " -0.00010490131018957294,\n",
       " -0.0019497781295522015,\n",
       " 0.0010302678434277318,\n",
       " -0.0011310405429838938,\n",
       " -0.0024248091888037782,\n",
       " -0.00069047666051369472,\n",
       " -0.00018775282487822065,\n",
       " -0.00084850144238507452,\n",
       " -0.0015096474115452729,\n",
       " -0.0021703107604569977,\n",
       " -0.0010345208514671439,\n",
       " 0.00042478710802736075,\n",
       " -8.4711128005579561e-05,\n",
       " -0.00064218611806104997,\n",
       " -0.0013440484098540539,\n",
       " -0.00057351609714323404,\n",
       " -0.0012202213560034009,\n",
       " -0.0013851825486030228,\n",
       " 0.0010304912471469779,\n",
       " -0.00066294418908863229,\n",
       " -0.00093827743019861409,\n",
       " -0.0017365059300371299,\n",
       " 0.00014270163635465849,\n",
       " 0.0016019328541135303,\n",
       " -0.0017501417047991047,\n",
       " -0.001178850170559978,\n",
       " 0.0012642264883504645,\n",
       " 0.00026621319640331154,\n",
       " 0.0018425874523262109,\n",
       " -0.00080052127761873204,\n",
       " 0.0018354992634986717,\n",
       " 0.0012849521573119055,\n",
       " 0.0019732741751694732,\n",
       " 0.0014984869840999893,\n",
       " 0.0011817910844060808,\n",
       " -0.00035326144185857111,\n",
       " -0.00072476306787336298,\n",
       " 0.001532923464187097,\n",
       " -0.00043554336233173063,\n",
       " -0.0001604386410566927,\n",
       " 0.00067225874093508609,\n",
       " -0.00077977514419447225,\n",
       " -2.2586987650272117e-05,\n",
       " -0.00038765358227621505,\n",
       " -0.00093130861740424453,\n",
       " -0.00015348006049376028,\n",
       " -0.00029135899985062441,\n",
       " -0.00019473016453208647,\n",
       " -0.0006213615375292858,\n",
       " 0.00041093304566185151,\n",
       " 0.00090630947594057265,\n",
       " 0.0017738065822347215,\n",
       " -0.0010345958878308636,\n",
       " -0.0013647109800550977,\n",
       " -6.3775698300128081e-05,\n",
       " 0.00021098453785056703,\n",
       " -0.0010003401771654236,\n",
       " 0.00095474838574871601,\n",
       " -0.0025143737105013941,\n",
       " 0.0017875566169141821,\n",
       " 0.00035578965570425003,\n",
       " 0.0013949694884665131,\n",
       " -0.0021083128176224986,\n",
       " 0.00082378368728534823,\n",
       " 0.0018629856898823433,\n",
       " 0.0010715162420941726,\n",
       " -0.00063508428625827507,\n",
       " -0.0017088063321656355,\n",
       " 0.00098891371170331532,\n",
       " 0.0015947764504098683,\n",
       " -0.0015506553527734335,\n",
       " -0.0010002225065041392,\n",
       " 0.0018284639412000925,\n",
       " 0.0020764386588190964,\n",
       " -0.00077285919792909052,\n",
       " 0.0016705431870147613,\n",
       " 0.00058976023823029133,\n",
       " 0.00014925774914859025,\n",
       " 0.00053428771149546805,\n",
       " 0.0014363816028356013,\n",
       " 0.00054164023296793262,\n",
       " 0.00063131048772351039,\n",
       " -0.0022663529478410133,\n",
       " -0.00091057101083949488,\n",
       " 0.001697746521662602,\n",
       " 0.00072055781024722709,\n",
       " 0.00043137391751554843,\n",
       " 0.00079616083114944503,\n",
       " -0.00096573827600375528,\n",
       " 0.0016637449114106501,\n",
       " 0.00024543807165670894,\n",
       " 0.00022506541467913477,\n",
       " 3.9288168407231039e-05,\n",
       " -9.1477001543521785e-05,\n",
       " -0.00014649078323654419,\n",
       " 0.00010820717362283738,\n",
       " 0.0016633526758730449,\n",
       " 0.0014639515924425028,\n",
       " -0.00049765556508371556,\n",
       " -0.00079382873507259644,\n",
       " -0.00087609701257052031,\n",
       " -0.0027415511335390635,\n",
       " -0.00061462124456986011,\n",
       " -0.002115134968433241,\n",
       " 0.00013545825868395422,\n",
       " 0.00061750076502746498,\n",
       " 0.0002388307977056886,\n",
       " -0.0013856361775291259,\n",
       " 0.0021656297040700268,\n",
       " -1.9261228211553405e-06,\n",
       " 0.0015326881228645284,\n",
       " 0.00051404466278248684,\n",
       " -0.0001951292215573025,\n",
       " -0.00030468951304202241,\n",
       " -0.0007665043190196591,\n",
       " 0.0021178490678162853,\n",
       " -0.0013993828014647602,\n",
       " 0.002138509932645416,\n",
       " 0.00019043111145129743,\n",
       " 0.001147238639029588,\n",
       " -0.000890000530721205,\n",
       " -0.0018052782732691092,\n",
       " 0.00016323118754726917,\n",
       " 0.0011543234171133288,\n",
       " 0.00037648292259950811,\n",
       " -0.001130743808272841,\n",
       " -0.00049082829815726148,\n",
       " 0.00047987422071218977,\n",
       " 0.00029402705419230568,\n",
       " 0.0016356974176710143,\n",
       " 0.00067228432151363038,\n",
       " -0.00086932943366066495,\n",
       " -5.018426320763103e-05,\n",
       " -0.00082092463129056215,\n",
       " 0.00027968013934692726,\n",
       " -0.00093152519963587976,\n",
       " 0.0023037542169808689,\n",
       " 0.00035600623793587138,\n",
       " 0.0010302746649153288,\n",
       " 0.0012435860879841665,\n",
       " -0.00055974218725715619,\n",
       " -0.001344341733821322,\n",
       " -0.00029119869489177552,\n",
       " 0.00020451369365176442,\n",
       " -0.00088323295181134964,\n",
       " -0.00078672690326982153,\n",
       " 0.0001561344718602059,\n",
       " -0.0005184034038798746,\n",
       " -0.00029815215933901018,\n",
       " 0.0012229303392707475,\n",
       " -0.00044922006601935682,\n",
       " -0.00038045795501880086,\n",
       " 0.00074102085193565592,\n",
       " 0.0006106121047125268,\n",
       " 0.00037643858293004429,\n",
       " 0.0023103853661385204,\n",
       " 0.0013883417500526601,\n",
       " -0.00036713937943072539,\n",
       " -0.00074530285129741081,\n",
       " -0.00076601999339931393,\n",
       " -0.0013788549556440488,\n",
       " -0.0010138292899437712,\n",
       " 0.00088553946730968169,\n",
       " -0.002011895448419912,\n",
       " 5.9959265467784961e-05,\n",
       " 0.00052075937516336823,\n",
       " -0.0021012860221834295,\n",
       " 0.0011061982957352723,\n",
       " 0.0012299741884288368,\n",
       " -0.0001332301902931543,\n",
       " 7.332388609723739e-05,\n",
       " 0.00067250260911716486,\n",
       " -0.00076600976116790453,\n",
       " -0.0001052543221734259,\n",
       " 0.0017943583032620919,\n",
       " -0.0011722190214023265,\n",
       " -0.00076595007315130581,\n",
       " -0.0020875769164296482,\n",
       " 0.00086518556942301317,\n",
       " 0.00011502420831788207,\n",
       " 0.00034885153960412252,\n",
       " 0.00067248385002624533,\n",
       " -0.00069050224109222513,\n",
       " -0.000263841876772683,\n",
       " 0.0024894359624262064,\n",
       " -0.00055294732239684341,\n",
       " 0.0018971936501344933,\n",
       " 0.0017528421612069273,\n",
       " -0.00033247949562435763,\n",
       " -0.0010347476659301885,\n",
       " -0.0021701640984733706,\n",
       " -0.00081444867097604789,\n",
       " -0.00040139850083996398,\n",
       " 0.0010236179351791469,\n",
       " 0.0014912094989912306,\n",
       " -0.00082117532096025181,\n",
       " 0.0021932627924373255,\n",
       " 0.0016497288387143927,\n",
       " -1.9909269534379437e-06,\n",
       " -7.7738904467397618e-05,\n",
       " 0.0026202625257654849,\n",
       " 6.7061097270559866e-05,\n",
       " -7.7848048269171799e-05,\n",
       " 0.00054148845486859387,\n",
       " -0.00019483930833386065,\n",
       " 0.0021040563988392741,\n",
       " 0.00036259134205214594,\n",
       " 0.00073455341848065181,\n",
       " 0.0003694066713752775,\n",
       " -0.00073168071951065783,\n",
       " 0.0023174104562056902,\n",
       " 0.0023859935031564639,\n",
       " 0.0015947474590875393,\n",
       " -0.00018800180917599718,\n",
       " -0.0013442837511766226,\n",
       " -0.0016745301570373627,\n",
       " 0.00084451276699057387,\n",
       " 0.0011197215159516605,\n",
       " 0.00070654173755096972,\n",
       " -0.00030478160312476243,\n",
       " 0.0005897414791393718,\n",
       " 0.00097521483818095722,\n",
       " 0.0016360129114730004,\n",
       " 4.6074506408033677e-05,\n",
       " 0.0012575561156390608,\n",
       " -0.0014132044617641282,\n",
       " 0.00072738507717368117,\n",
       " 0.00065870823476824047,\n",
       " -0.00021561954919617488,\n",
       " -0.0025831460537333734,\n",
       " -0.00026365769660721683,\n",
       " 9.4243967455567845e-05,\n",
       " 0.00056909084654165054,\n",
       " -0.0017573970200731315,\n",
       " -0.00069059774191877754,\n",
       " -0.0010621044840492672,\n",
       " -0.0003464256480726069,\n",
       " 0.0012987823444707697,\n",
       " -0.0012134588932092572,\n",
       " 0.0032121552368171574,\n",
       " 0.0015947969148727009,\n",
       " 0.00050720886899652262,\n",
       " -0.0016810982074346031,\n",
       " 0.0021728457957902875,\n",
       " -0.00072459764679880245,\n",
       " 0.0015739979149194533,\n",
       " 0.0011539090117409917,\n",
       " -0.00045625027220222436,\n",
       " 0.0011885518418283253,\n",
       " -0.00076583922397764626,\n",
       " 0.00017691982883823176,\n",
       " 0.0012161133045757166,\n",
       " 0.00092688677754645954,\n",
       " -0.0025970444557683464,\n",
       " -3.6594533487033232e-05,\n",
       " -0.0026451167106174289,\n",
       " -0.0021631134278276842,\n",
       " -0.0012891557095661421,\n",
       " 0.00092701809118296563,\n",
       " -0.0030513174439923407,\n",
       " 0.0018423913345574222,\n",
       " 0.0012365405334541779,\n",
       " 0.00096834152621314007,\n",
       " -0.00053194026707148456,\n",
       " -0.00034616984228721948,\n",
       " 0.0016774113828668669,\n",
       " 4.8704474110428109e-06,\n",
       " 0.00060331927125664708,\n",
       " 0.0021179292202957029,\n",
       " -0.00053872831044417258,\n",
       " 0.0010029331951433851,\n",
       " 0.00045915025712266189,\n",
       " -0.00077989963634336745,\n",
       " -0.00071112558773948897,\n",
       " -0.0013857623750499343,\n",
       " 0.00046582574594977721,\n",
       " -0.0035466444184858864,\n",
       " 0.00052068774954346086,\n",
       " -0.00054609618026375817,\n",
       " -0.00051149427910210377,\n",
       " -0.00069714532785318528,\n",
       " 0.00089969367513004217,\n",
       " -0.0011924586593715092,\n",
       " 0.00051417086030329517,\n",
       " -0.0014543965831577826,\n",
       " -0.00028412244366753103,\n",
       " 0.00016997659662239262,\n",
       " -0.0013994919452665344,\n",
       " -0.0010760881546793694,\n",
       " 0.001649693025904439,\n",
       " ...]"
      ]
     },
     "execution_count": 27,
     "metadata": {},
     "output_type": "execute_result"
    }
   ],
   "source": [
    "p_diffs = []\n",
    "for _ in range(10000):\n",
    "    k = np.random.binomial(1,pnew,n_new).mean()\n",
    "    l = np.random.binomial(1,pold,n_old).mean()\n",
    "    p_diffs.append(k-l)\n",
    "p_diffs"
   ]
  },
  {
   "cell_type": "markdown",
   "metadata": {},
   "source": [
    "i. Plot a histogram of the **p_diffs**.  Does this plot look like what you expected?  Use the matching problem in the classroom to assure you fully understand what was computed here."
   ]
  },
  {
   "cell_type": "code",
   "execution_count": 28,
   "metadata": {},
   "outputs": [
    {
     "data": {
      "image/png": "[encoded data removed]",
      "text/plain": [
       "<matplotlib.figure.Figure at 0x7f82fc9aa748>"
      ]
     },
     "metadata": {
      "needs_background": "light"
     },
     "output_type": "display_data"
    }
   ],
   "source": [
    "plt.hist(p_diffs);\n",
    "plt.axvline(x=actual_diff, color = 'red'); # where our sample mean falls on null dist"
   ]
  },
  {
   "cell_type": "markdown",
   "metadata": {},
   "source": [
    "j. What proportion of the **p_diffs** are greater than the actual difference observed in **ab_data.csv**?"
   ]
  },
  {
   "cell_type": "code",
   "execution_count": 42,
   "metadata": {},
   "outputs": [
    {
     "data": {
      "text/plain": [
       "0.91120000000000001"
      ]
     },
     "execution_count": 42,
     "metadata": {},
     "output_type": "execute_result"
    }
   ],
   "source": [
    "(p_diffs > actual_diff).mean()"
   ]
  },
  {
   "cell_type": "markdown",
   "metadata": {},
   "source": [
    "k. Please explain using the vocabulary you've learned in this course what you just computed in part **j.**  What is this value called in scientific studies?  What does this value mean in terms of whether or not there is a difference between the new and old pages?"
   ]
  },
  {
   "cell_type": "markdown",
   "metadata": {},
   "source": [
    "**response:** P value is the probability of seeing the effect when the null hypothesis is true. It looks like it's 0.7, way higher than our error I threshhold of 0.5. This means that the results we've obtained are statistically significant, and so we've failed to reject the null hypothesis: the conversion rates for the old and the new pages are the same, so we should refrain from implementing the new page."
   ]
  },
  {
   "cell_type": "markdown",
   "metadata": {},
   "source": [
    "l. We could also use a built-in to achieve similar results.  Though using the built-in might be easier to code, the above portions are a walkthrough of the ideas that are critical to correctly thinking about statistical significance. Fill in the below to calculate the number of conversions for each page, as well as the number of individuals who received each page. Let `n_old` and `n_new` refer the the number of rows associated with the old page and new pages, respectively."
   ]
  },
  {
   "cell_type": "code",
   "execution_count": 43,
   "metadata": {
    "scrolled": true
   },
   "outputs": [
    {
     "name": "stderr",
     "output_type": "stream",
     "text": [
      "/opt/conda/lib/python3.6/site-packages/statsmodels/compat/pandas.py:56: FutureWarning: The pandas.core.datetools module is deprecated and will be removed in a future version. Please use the pandas.tseries module instead.\n",
      "  from pandas.core import datetools\n"
     ]
    },
    {
     "data": {
      "text/plain": [
       "17489"
      ]
     },
     "execution_count": 43,
     "metadata": {},
     "output_type": "execute_result"
    }
   ],
   "source": [
    "import statsmodels.api as sm\n",
    "\n",
    "convert_old = df2.query('landing_page == \"old_page\"')['converted'].sum()\n",
    "convert_old\n"
   ]
  },
  {
   "cell_type": "code",
   "execution_count": 44,
   "metadata": {
    "scrolled": true
   },
   "outputs": [
    {
     "data": {
      "text/plain": [
       "17264"
      ]
     },
     "execution_count": 44,
     "metadata": {},
     "output_type": "execute_result"
    }
   ],
   "source": [
    "convert_new = df2.query('landing_page == \"new_page\"')['converted'].sum()\n",
    "convert_new"
   ]
  },
  {
   "cell_type": "code",
   "execution_count": 45,
   "metadata": {},
   "outputs": [
    {
     "data": {
      "text/plain": [
       "145274"
      ]
     },
     "execution_count": 45,
     "metadata": {},
     "output_type": "execute_result"
    }
   ],
   "source": [
    "n_old = df2.query('landing_page == \"old_page\"')['converted'].count()\n",
    "n_old"
   ]
  },
  {
   "cell_type": "code",
   "execution_count": 46,
   "metadata": {},
   "outputs": [
    {
     "data": {
      "text/plain": [
       "145310"
      ]
     },
     "execution_count": 46,
     "metadata": {},
     "output_type": "execute_result"
    }
   ],
   "source": [
    "n_new = df2.query('landing_page == \"new_page\"')['converted'].count()\n",
    "n_new"
   ]
  },
  {
   "cell_type": "markdown",
   "metadata": {},
   "source": [
    "m. Now use `stats.proportions_ztest` to compute your test statistic and p-value.  [Here](https://docs.w3cub.com/statsmodels/generated/statsmodels.stats.proportion.proportions_ztest/) is a helpful link on using the built in."
   ]
  },
  {
   "cell_type": "code",
   "execution_count": 47,
   "metadata": {},
   "outputs": [
    {
     "name": "stdout",
     "output_type": "stream",
     "text": [
      "0.905\n"
     ]
    }
   ],
   "source": [
    "stat, pval = sm.stats.proportions_ztest([convert_new, convert_old], [n_new, n_old],alternative=\"larger\")\n",
    "print('{0:0.3f}'.format(pval))"
   ]
  },
  {
   "cell_type": "markdown",
   "metadata": {},
   "source": [
    "n. What do the z-score and p-value you computed in the previous question mean for the conversion rates of the old and new pages?  Do they agree with the findings in parts **j.** and **k.**?"
   ]
  },
  {
   "cell_type": "markdown",
   "metadata": {},
   "source": [
    "**Yes, even though the p-value and the z-test are slightly different, both are higher than alpha (0.05), hence we fail to reject the null hypothesis. The conversion rates of both pages apear to be the same.**"
   ]
  },
  {
   "cell_type": "markdown",
   "metadata": {},
   "source": [
    "<a id='regression'></a>\n",
    "### Part III - A regression approach\n",
    "\n",
    "`1.` In this final part, you will see that the result you achieved in the A/B test in Part II above can also be achieved by performing regression.<br><br> \n",
    "\n",
    "a. Since each row is either a conversion or no conversion, what type of regression should you be performing in this case?"
   ]
  },
  {
   "cell_type": "markdown",
   "metadata": {},
   "source": [
    "**Logistic regression**"
   ]
  },
  {
   "cell_type": "markdown",
   "metadata": {},
   "source": [
    "b. The goal is to use **statsmodels** to fit the regression model you specified in part **a.** to see if there is a significant difference in conversion based on which page a customer receives. However, you first need to create in df2 a column for the intercept, and create a dummy variable column for which page each user received.  Add an **intercept** column, as well as an **ab_page** column, which is 1 when an individual receives the **treatment** and 0 if **control**."
   ]
  },
  {
   "cell_type": "code",
   "execution_count": 48,
   "metadata": {},
   "outputs": [
    {
     "data": {
      "text/html": [
       "<div>\n",
       "<style scoped>\n",
       "    .dataframe tbody tr th:only-of-type {\n",
       "        vertical-align: middle;\n",
       "    }\n",
       "\n",
       "    .dataframe tbody tr th {\n",
       "        vertical-align: top;\n",
       "    }\n",
       "\n",
       "    .dataframe thead th {\n",
       "        text-align: right;\n",
       "    }\n",
       "</style>\n",
       "<table border=\"1\" class=\"dataframe\">\n",
       "  <thead>\n",
       "    <tr style=\"text-align: right;\">\n",
       "      <th></th>\n",
       "      <th>user_id</th>\n",
       "      <th>timestamp</th>\n",
       "      <th>group</th>\n",
       "      <th>landing_page</th>\n",
       "      <th>converted</th>\n",
       "      <th>intercept</th>\n",
       "      <th>ab_page</th>\n",
       "    </tr>\n",
       "  </thead>\n",
       "  <tbody>\n",
       "    <tr>\n",
       "      <th>0</th>\n",
       "      <td>851104</td>\n",
       "      <td>2017-01-21 22:11:48.556739</td>\n",
       "      <td>control</td>\n",
       "      <td>old_page</td>\n",
       "      <td>0</td>\n",
       "      <td>1</td>\n",
       "      <td>0</td>\n",
       "    </tr>\n",
       "    <tr>\n",
       "      <th>1</th>\n",
       "      <td>804228</td>\n",
       "      <td>2017-01-12 08:01:45.159739</td>\n",
       "      <td>control</td>\n",
       "      <td>old_page</td>\n",
       "      <td>0</td>\n",
       "      <td>1</td>\n",
       "      <td>0</td>\n",
       "    </tr>\n",
       "    <tr>\n",
       "      <th>2</th>\n",
       "      <td>661590</td>\n",
       "      <td>2017-01-11 16:55:06.154213</td>\n",
       "      <td>treatment</td>\n",
       "      <td>new_page</td>\n",
       "      <td>0</td>\n",
       "      <td>1</td>\n",
       "      <td>1</td>\n",
       "    </tr>\n",
       "    <tr>\n",
       "      <th>3</th>\n",
       "      <td>853541</td>\n",
       "      <td>2017-01-08 18:28:03.143765</td>\n",
       "      <td>treatment</td>\n",
       "      <td>new_page</td>\n",
       "      <td>0</td>\n",
       "      <td>1</td>\n",
       "      <td>1</td>\n",
       "    </tr>\n",
       "    <tr>\n",
       "      <th>4</th>\n",
       "      <td>864975</td>\n",
       "      <td>2017-01-21 01:52:26.210827</td>\n",
       "      <td>control</td>\n",
       "      <td>old_page</td>\n",
       "      <td>1</td>\n",
       "      <td>1</td>\n",
       "      <td>0</td>\n",
       "    </tr>\n",
       "  </tbody>\n",
       "</table>\n",
       "</div>"
      ],
      "text/plain": [
       "   user_id                   timestamp      group landing_page  converted  \\\n",
       "0   851104  2017-01-21 22:11:48.556739    control     old_page          0   \n",
       "1   804228  2017-01-12 08:01:45.159739    control     old_page          0   \n",
       "2   661590  2017-01-11 16:55:06.154213  treatment     new_page          0   \n",
       "3   853541  2017-01-08 18:28:03.143765  treatment     new_page          0   \n",
       "4   864975  2017-01-21 01:52:26.210827    control     old_page          1   \n",
       "\n",
       "   intercept  ab_page  \n",
       "0          1        0  \n",
       "1          1        0  \n",
       "2          1        1  \n",
       "3          1        1  \n",
       "4          1        0  "
      ]
     },
     "execution_count": 48,
     "metadata": {},
     "output_type": "execute_result"
    }
   ],
   "source": [
    "df2['intercept'] = 1\n",
    "df2['ab_page'] = pd.get_dummies(df['group'])['treatment']\n",
    "df2.head()"
   ]
  },
  {
   "cell_type": "markdown",
   "metadata": {},
   "source": [
    "c. Use **statsmodels** to instantiate your regression model on the two columns you created in part b., then fit the model using the two columns you created in part **b.** to predict whether or not an individual converts. "
   ]
  },
  {
   "cell_type": "code",
   "execution_count": 22,
   "metadata": {},
   "outputs": [
    {
     "name": "stdout",
     "output_type": "stream",
     "text": [
      "Optimization terminated successfully.\n",
      "         Current function value: 0.366118\n",
      "         Iterations 6\n"
     ]
    }
   ],
   "source": [
    "import statsmodels.api as sm\n",
    "log_mod = sm.Logit(df2['converted'], df2[['intercept', 'ab_page']])\n",
    "results = log_mod.fit()"
   ]
  },
  {
   "cell_type": "markdown",
   "metadata": {},
   "source": [
    "d. Provide the summary of your model below, and use it as necessary to answer the following questions."
   ]
  },
  {
   "cell_type": "code",
   "execution_count": 23,
   "metadata": {
    "scrolled": true
   },
   "outputs": [
    {
     "data": {
      "text/html": [
       "<table class=\"simpletable\">\n",
       "<tr>\n",
       "        <td>Model:</td>              <td>Logit</td>       <td>No. Iterations:</td>    <td>6.0000</td>   \n",
       "</tr>\n",
       "<tr>\n",
       "  <td>Dependent Variable:</td>     <td>converted</td>    <td>Pseudo R-squared:</td>    <td>0.000</td>   \n",
       "</tr>\n",
       "<tr>\n",
       "         <td>Date:</td>        <td>2020-10-16 00:38</td>       <td>AIC:</td>        <td>212780.3502</td>\n",
       "</tr>\n",
       "<tr>\n",
       "   <td>No. Observations:</td>       <td>290584</td>            <td>BIC:</td>        <td>212801.5095</td>\n",
       "</tr>\n",
       "<tr>\n",
       "       <td>Df Model:</td>              <td>1</td>         <td>Log-Likelihood:</td>  <td>-1.0639e+05</td>\n",
       "</tr>\n",
       "<tr>\n",
       "     <td>Df Residuals:</td>         <td>290582</td>          <td>LL-Null:</td>      <td>-1.0639e+05</td>\n",
       "</tr>\n",
       "<tr>\n",
       "      <td>Converged:</td>           <td>1.0000</td>           <td>Scale:</td>         <td>1.0000</td>   \n",
       "</tr>\n",
       "</table>\n",
       "<table class=\"simpletable\">\n",
       "<tr>\n",
       "      <td></td>       <th>Coef.</th>  <th>Std.Err.</th>     <th>z</th>      <th>P>|z|</th> <th>[0.025</th>  <th>0.975]</th> \n",
       "</tr>\n",
       "<tr>\n",
       "  <th>intercept</th> <td>-1.9888</td>  <td>0.0081</td>  <td>-246.6690</td> <td>0.0000</td> <td>-2.0046</td> <td>-1.9730</td>\n",
       "</tr>\n",
       "<tr>\n",
       "  <th>ab_page</th>   <td>-0.0150</td>  <td>0.0114</td>   <td>-1.3109</td>  <td>0.1899</td> <td>-0.0374</td> <td>0.0074</td> \n",
       "</tr>\n",
       "</table>"
      ],
      "text/plain": [
       "<class 'statsmodels.iolib.summary2.Summary'>\n",
       "\"\"\"\n",
       "                          Results: Logit\n",
       "==================================================================\n",
       "Model:              Logit            No. Iterations:   6.0000     \n",
       "Dependent Variable: converted        Pseudo R-squared: 0.000      \n",
       "Date:               2020-10-16 00:38 AIC:              212780.3502\n",
       "No. Observations:   290584           BIC:              212801.5095\n",
       "Df Model:           1                Log-Likelihood:   -1.0639e+05\n",
       "Df Residuals:       290582           LL-Null:          -1.0639e+05\n",
       "Converged:          1.0000           Scale:            1.0000     \n",
       "-------------------------------------------------------------------\n",
       "              Coef.   Std.Err.      z      P>|z|    [0.025   0.975]\n",
       "-------------------------------------------------------------------\n",
       "intercept    -1.9888    0.0081  -246.6690  0.0000  -2.0046  -1.9730\n",
       "ab_page      -0.0150    0.0114    -1.3109  0.1899  -0.0374   0.0074\n",
       "==================================================================\n",
       "\n",
       "\"\"\""
      ]
     },
     "execution_count": 23,
     "metadata": {},
     "output_type": "execute_result"
    }
   ],
   "source": [
    " results.summary2()"
   ]
  },
  {
   "cell_type": "code",
   "execution_count": 24,
   "metadata": {},
   "outputs": [
    {
     "data": {
      "text/plain": [
       "intercept    0.136863\n",
       "ab_page      0.985123\n",
       "dtype: float64"
      ]
     },
     "execution_count": 24,
     "metadata": {},
     "output_type": "execute_result"
    }
   ],
   "source": [
    "np.exp(results.params)"
   ]
  },
  {
   "cell_type": "markdown",
   "metadata": {},
   "source": [
    "e. What is the p-value associated with **ab_page**? Why does it differ from the value you found in **Part II**?<br><br>  **Hint**: What are the null and alternative hypotheses associated with your regression model, and how do they compare to the null and alternative hypotheses in **Part II**?"
   ]
  },
  {
   "cell_type": "markdown",
   "metadata": {},
   "source": [
    "**The p-value here is 0.19, which is higher than the 0.05 alpha and that indicates that there is no relationship between conversion rate and treatment group. Our null hypothesis stands true.\n",
    "<br>\n",
    "The null hypothesis of a logistic regression is that the term's coefficient is equal to zero, which means there is no association between the term and the response.\n",
    "<br>\n",
    "The value differs from that found in Part II because Part II is a one-test, whereas part III is two-sided.**"
   ]
  },
  {
   "cell_type": "markdown",
   "metadata": {},
   "source": [
    "f. Now, you are considering other things that might influence whether or not an individual converts.  Discuss why it is a good idea to consider other factors to add into your regression model.  Are there any disadvantages to adding additional terms into your regression model?"
   ]
  },
  {
   "cell_type": "markdown",
   "metadata": {},
   "source": [
    "**Failing to take into account other factors may result in a Simpson's paradox and incorrect conclusions. But on the other hand, f we choose to build a multivariate regression, we may run into risk of multicollinearity.**"
   ]
  },
  {
   "cell_type": "markdown",
   "metadata": {},
   "source": [
    "g. Now along with testing if the conversion rate changes for different pages, also add an effect based on which country a user lives in. You will need to read in the **countries.csv** dataset and merge together your datasets on the appropriate rows.  [Here](https://pandas.pydata.org/pandas-docs/stable/generated/pandas.DataFrame.join.html) are the docs for joining tables. \n",
    "\n",
    "Does it appear that country had an impact on conversion?  Don't forget to create dummy variables for these country columns - **Hint: You will need two columns for the three dummy variables.** Provide the statistical output as well as a written response to answer this question."
   ]
  },
  {
   "cell_type": "code",
   "execution_count": 56,
   "metadata": {
    "scrolled": false
   },
   "outputs": [
    {
     "data": {
      "text/html": [
       "<div>\n",
       "<style scoped>\n",
       "    .dataframe tbody tr th:only-of-type {\n",
       "        vertical-align: middle;\n",
       "    }\n",
       "\n",
       "    .dataframe tbody tr th {\n",
       "        vertical-align: top;\n",
       "    }\n",
       "\n",
       "    .dataframe thead th {\n",
       "        text-align: right;\n",
       "    }\n",
       "</style>\n",
       "<table border=\"1\" class=\"dataframe\">\n",
       "  <thead>\n",
       "    <tr style=\"text-align: right;\">\n",
       "      <th></th>\n",
       "      <th>country</th>\n",
       "      <th>timestamp</th>\n",
       "      <th>group</th>\n",
       "      <th>landing_page</th>\n",
       "      <th>converted</th>\n",
       "      <th>intercept</th>\n",
       "      <th>ab_page</th>\n",
       "    </tr>\n",
       "    <tr>\n",
       "      <th>user_id</th>\n",
       "      <th></th>\n",
       "      <th></th>\n",
       "      <th></th>\n",
       "      <th></th>\n",
       "      <th></th>\n",
       "      <th></th>\n",
       "      <th></th>\n",
       "    </tr>\n",
       "  </thead>\n",
       "  <tbody>\n",
       "    <tr>\n",
       "      <th>834778</th>\n",
       "      <td>UK</td>\n",
       "      <td>2017-01-14 23:08:43.304998</td>\n",
       "      <td>control</td>\n",
       "      <td>old_page</td>\n",
       "      <td>0</td>\n",
       "      <td>1</td>\n",
       "      <td>0</td>\n",
       "    </tr>\n",
       "    <tr>\n",
       "      <th>928468</th>\n",
       "      <td>US</td>\n",
       "      <td>2017-01-23 14:44:16.387854</td>\n",
       "      <td>treatment</td>\n",
       "      <td>new_page</td>\n",
       "      <td>0</td>\n",
       "      <td>1</td>\n",
       "      <td>1</td>\n",
       "    </tr>\n",
       "    <tr>\n",
       "      <th>822059</th>\n",
       "      <td>UK</td>\n",
       "      <td>2017-01-16 14:04:14.719771</td>\n",
       "      <td>treatment</td>\n",
       "      <td>new_page</td>\n",
       "      <td>1</td>\n",
       "      <td>1</td>\n",
       "      <td>1</td>\n",
       "    </tr>\n",
       "    <tr>\n",
       "      <th>711597</th>\n",
       "      <td>UK</td>\n",
       "      <td>2017-01-22 03:14:24.763511</td>\n",
       "      <td>control</td>\n",
       "      <td>old_page</td>\n",
       "      <td>0</td>\n",
       "      <td>1</td>\n",
       "      <td>0</td>\n",
       "    </tr>\n",
       "    <tr>\n",
       "      <th>710616</th>\n",
       "      <td>UK</td>\n",
       "      <td>2017-01-16 13:14:44.000513</td>\n",
       "      <td>treatment</td>\n",
       "      <td>new_page</td>\n",
       "      <td>0</td>\n",
       "      <td>1</td>\n",
       "      <td>1</td>\n",
       "    </tr>\n",
       "  </tbody>\n",
       "</table>\n",
       "</div>"
      ],
      "text/plain": [
       "        country                   timestamp      group landing_page  \\\n",
       "user_id                                                               \n",
       "834778       UK  2017-01-14 23:08:43.304998    control     old_page   \n",
       "928468       US  2017-01-23 14:44:16.387854  treatment     new_page   \n",
       "822059       UK  2017-01-16 14:04:14.719771  treatment     new_page   \n",
       "711597       UK  2017-01-22 03:14:24.763511    control     old_page   \n",
       "710616       UK  2017-01-16 13:14:44.000513  treatment     new_page   \n",
       "\n",
       "         converted  intercept  ab_page  \n",
       "user_id                                 \n",
       "834778           0          1        0  \n",
       "928468           0          1        1  \n",
       "822059           1          1        1  \n",
       "711597           0          1        0  \n",
       "710616           0          1        1  "
      ]
     },
     "execution_count": 56,
     "metadata": {},
     "output_type": "execute_result"
    }
   ],
   "source": [
    "dfc = pd.read_csv('countries.csv')\n",
    "df3= dfc.set_index('user_id').join(df2.set_index('user_id'), how='inner')\n",
    "\n",
    "df3.head()"
   ]
  },
  {
   "cell_type": "code",
   "execution_count": 50,
   "metadata": {
    "scrolled": true
   },
   "outputs": [
    {
     "data": {
      "text/plain": [
       "3"
      ]
     },
     "execution_count": 50,
     "metadata": {},
     "output_type": "execute_result"
    }
   ],
   "source": [
    "df3.country.nunique()"
   ]
  },
  {
   "cell_type": "code",
   "execution_count": 51,
   "metadata": {},
   "outputs": [
    {
     "data": {
      "text/html": [
       "<div>\n",
       "<style scoped>\n",
       "    .dataframe tbody tr th:only-of-type {\n",
       "        vertical-align: middle;\n",
       "    }\n",
       "\n",
       "    .dataframe tbody tr th {\n",
       "        vertical-align: top;\n",
       "    }\n",
       "\n",
       "    .dataframe thead th {\n",
       "        text-align: right;\n",
       "    }\n",
       "</style>\n",
       "<table border=\"1\" class=\"dataframe\">\n",
       "  <thead>\n",
       "    <tr style=\"text-align: right;\">\n",
       "      <th></th>\n",
       "      <th>timestamp</th>\n",
       "      <th>group</th>\n",
       "      <th>landing_page</th>\n",
       "      <th>converted</th>\n",
       "      <th>intercept</th>\n",
       "      <th>ab_page</th>\n",
       "    </tr>\n",
       "    <tr>\n",
       "      <th>country</th>\n",
       "      <th></th>\n",
       "      <th></th>\n",
       "      <th></th>\n",
       "      <th></th>\n",
       "      <th></th>\n",
       "      <th></th>\n",
       "    </tr>\n",
       "  </thead>\n",
       "  <tbody>\n",
       "    <tr>\n",
       "      <th>CA</th>\n",
       "      <td>14499</td>\n",
       "      <td>14499</td>\n",
       "      <td>14499</td>\n",
       "      <td>14499</td>\n",
       "      <td>14499</td>\n",
       "      <td>14499</td>\n",
       "    </tr>\n",
       "    <tr>\n",
       "      <th>UK</th>\n",
       "      <td>72466</td>\n",
       "      <td>72466</td>\n",
       "      <td>72466</td>\n",
       "      <td>72466</td>\n",
       "      <td>72466</td>\n",
       "      <td>72466</td>\n",
       "    </tr>\n",
       "    <tr>\n",
       "      <th>US</th>\n",
       "      <td>203619</td>\n",
       "      <td>203619</td>\n",
       "      <td>203619</td>\n",
       "      <td>203619</td>\n",
       "      <td>203619</td>\n",
       "      <td>203619</td>\n",
       "    </tr>\n",
       "  </tbody>\n",
       "</table>\n",
       "</div>"
      ],
      "text/plain": [
       "         timestamp   group  landing_page  converted  intercept  ab_page\n",
       "country                                                                \n",
       "CA           14499   14499         14499      14499      14499    14499\n",
       "UK           72466   72466         72466      72466      72466    72466\n",
       "US          203619  203619        203619     203619     203619   203619"
      ]
     },
     "execution_count": 51,
     "metadata": {},
     "output_type": "execute_result"
    }
   ],
   "source": [
    "df3.groupby('country').count()"
   ]
  },
  {
   "cell_type": "code",
   "execution_count": 57,
   "metadata": {
    "scrolled": true
   },
   "outputs": [
    {
     "data": {
      "text/html": [
       "<div>\n",
       "<style scoped>\n",
       "    .dataframe tbody tr th:only-of-type {\n",
       "        vertical-align: middle;\n",
       "    }\n",
       "\n",
       "    .dataframe tbody tr th {\n",
       "        vertical-align: top;\n",
       "    }\n",
       "\n",
       "    .dataframe thead th {\n",
       "        text-align: right;\n",
       "    }\n",
       "</style>\n",
       "<table border=\"1\" class=\"dataframe\">\n",
       "  <thead>\n",
       "    <tr style=\"text-align: right;\">\n",
       "      <th></th>\n",
       "      <th>country</th>\n",
       "      <th>timestamp</th>\n",
       "      <th>group</th>\n",
       "      <th>landing_page</th>\n",
       "      <th>converted</th>\n",
       "      <th>intercept</th>\n",
       "      <th>ab_page</th>\n",
       "      <th>CA</th>\n",
       "      <th>UK</th>\n",
       "      <th>US</th>\n",
       "    </tr>\n",
       "    <tr>\n",
       "      <th>user_id</th>\n",
       "      <th></th>\n",
       "      <th></th>\n",
       "      <th></th>\n",
       "      <th></th>\n",
       "      <th></th>\n",
       "      <th></th>\n",
       "      <th></th>\n",
       "      <th></th>\n",
       "      <th></th>\n",
       "      <th></th>\n",
       "    </tr>\n",
       "  </thead>\n",
       "  <tbody>\n",
       "    <tr>\n",
       "      <th>653118</th>\n",
       "      <td>US</td>\n",
       "      <td>2017-01-09 03:12:31.034796</td>\n",
       "      <td>control</td>\n",
       "      <td>old_page</td>\n",
       "      <td>0</td>\n",
       "      <td>1</td>\n",
       "      <td>0</td>\n",
       "      <td>0</td>\n",
       "      <td>0</td>\n",
       "      <td>1</td>\n",
       "    </tr>\n",
       "    <tr>\n",
       "      <th>878226</th>\n",
       "      <td>UK</td>\n",
       "      <td>2017-01-05 15:02:50.334962</td>\n",
       "      <td>control</td>\n",
       "      <td>old_page</td>\n",
       "      <td>0</td>\n",
       "      <td>1</td>\n",
       "      <td>0</td>\n",
       "      <td>0</td>\n",
       "      <td>1</td>\n",
       "      <td>0</td>\n",
       "    </tr>\n",
       "    <tr>\n",
       "      <th>799368</th>\n",
       "      <td>UK</td>\n",
       "      <td>2017-01-09 18:07:34.253935</td>\n",
       "      <td>control</td>\n",
       "      <td>old_page</td>\n",
       "      <td>0</td>\n",
       "      <td>1</td>\n",
       "      <td>0</td>\n",
       "      <td>0</td>\n",
       "      <td>1</td>\n",
       "      <td>0</td>\n",
       "    </tr>\n",
       "    <tr>\n",
       "      <th>655535</th>\n",
       "      <td>CA</td>\n",
       "      <td>2017-01-09 13:30:47.524512</td>\n",
       "      <td>treatment</td>\n",
       "      <td>new_page</td>\n",
       "      <td>0</td>\n",
       "      <td>1</td>\n",
       "      <td>1</td>\n",
       "      <td>1</td>\n",
       "      <td>0</td>\n",
       "      <td>0</td>\n",
       "    </tr>\n",
       "    <tr>\n",
       "      <th>934996</th>\n",
       "      <td>UK</td>\n",
       "      <td>2017-01-09 00:30:08.377677</td>\n",
       "      <td>control</td>\n",
       "      <td>old_page</td>\n",
       "      <td>0</td>\n",
       "      <td>1</td>\n",
       "      <td>0</td>\n",
       "      <td>0</td>\n",
       "      <td>1</td>\n",
       "      <td>0</td>\n",
       "    </tr>\n",
       "  </tbody>\n",
       "</table>\n",
       "</div>"
      ],
      "text/plain": [
       "        country                   timestamp      group landing_page  \\\n",
       "user_id                                                               \n",
       "653118       US  2017-01-09 03:12:31.034796    control     old_page   \n",
       "878226       UK  2017-01-05 15:02:50.334962    control     old_page   \n",
       "799368       UK  2017-01-09 18:07:34.253935    control     old_page   \n",
       "655535       CA  2017-01-09 13:30:47.524512  treatment     new_page   \n",
       "934996       UK  2017-01-09 00:30:08.377677    control     old_page   \n",
       "\n",
       "         converted  intercept  ab_page  CA  UK  US  \n",
       "user_id                                             \n",
       "653118           0          1        0   0   0   1  \n",
       "878226           0          1        0   0   1   0  \n",
       "799368           0          1        0   0   1   0  \n",
       "655535           0          1        1   1   0   0  \n",
       "934996           0          1        0   0   1   0  "
      ]
     },
     "execution_count": 57,
     "metadata": {},
     "output_type": "execute_result"
    }
   ],
   "source": [
    "df3[['CA','UK','US']] = pd.get_dummies(df3['country'])\n",
    "df3.tail()"
   ]
  },
  {
   "cell_type": "code",
   "execution_count": 53,
   "metadata": {
    "scrolled": true
   },
   "outputs": [
    {
     "name": "stdout",
     "output_type": "stream",
     "text": [
      "Optimization terminated successfully.\n",
      "         Current function value: 0.366113\n",
      "         Iterations 6\n"
     ]
    },
    {
     "data": {
      "text/html": [
       "<table class=\"simpletable\">\n",
       "<tr>\n",
       "        <td>Model:</td>              <td>Logit</td>       <td>No. Iterations:</td>    <td>6.0000</td>   \n",
       "</tr>\n",
       "<tr>\n",
       "  <td>Dependent Variable:</td>     <td>converted</td>    <td>Pseudo R-squared:</td>    <td>0.000</td>   \n",
       "</tr>\n",
       "<tr>\n",
       "         <td>Date:</td>        <td>2020-10-16 11:43</td>       <td>AIC:</td>        <td>212781.1253</td>\n",
       "</tr>\n",
       "<tr>\n",
       "   <td>No. Observations:</td>       <td>290584</td>            <td>BIC:</td>        <td>212823.4439</td>\n",
       "</tr>\n",
       "<tr>\n",
       "       <td>Df Model:</td>              <td>3</td>         <td>Log-Likelihood:</td>  <td>-1.0639e+05</td>\n",
       "</tr>\n",
       "<tr>\n",
       "     <td>Df Residuals:</td>         <td>290580</td>          <td>LL-Null:</td>      <td>-1.0639e+05</td>\n",
       "</tr>\n",
       "<tr>\n",
       "      <td>Converged:</td>           <td>1.0000</td>           <td>Scale:</td>         <td>1.0000</td>   \n",
       "</tr>\n",
       "</table>\n",
       "<table class=\"simpletable\">\n",
       "<tr>\n",
       "      <td></td>       <th>Coef.</th>  <th>Std.Err.</th>     <th>z</th>      <th>P>|z|</th> <th>[0.025</th>  <th>0.975]</th> \n",
       "</tr>\n",
       "<tr>\n",
       "  <th>intercept</th> <td>-1.9893</td>  <td>0.0089</td>  <td>-223.7628</td> <td>0.0000</td> <td>-2.0067</td> <td>-1.9718</td>\n",
       "</tr>\n",
       "<tr>\n",
       "  <th>ab_page</th>   <td>-0.0149</td>  <td>0.0114</td>   <td>-1.3069</td>  <td>0.1912</td> <td>-0.0374</td> <td>0.0075</td> \n",
       "</tr>\n",
       "<tr>\n",
       "  <th>CA</th>        <td>-0.0408</td>  <td>0.0269</td>   <td>-1.5161</td>  <td>0.1295</td> <td>-0.0934</td> <td>0.0119</td> \n",
       "</tr>\n",
       "<tr>\n",
       "  <th>UK</th>        <td>0.0099</td>   <td>0.0133</td>   <td>0.7433</td>   <td>0.4573</td> <td>-0.0162</td> <td>0.0359</td> \n",
       "</tr>\n",
       "</table>"
      ],
      "text/plain": [
       "<class 'statsmodels.iolib.summary2.Summary'>\n",
       "\"\"\"\n",
       "                          Results: Logit\n",
       "==================================================================\n",
       "Model:              Logit            No. Iterations:   6.0000     \n",
       "Dependent Variable: converted        Pseudo R-squared: 0.000      \n",
       "Date:               2020-10-16 11:43 AIC:              212781.1253\n",
       "No. Observations:   290584           BIC:              212823.4439\n",
       "Df Model:           3                Log-Likelihood:   -1.0639e+05\n",
       "Df Residuals:       290580           LL-Null:          -1.0639e+05\n",
       "Converged:          1.0000           Scale:            1.0000     \n",
       "-------------------------------------------------------------------\n",
       "              Coef.   Std.Err.      z      P>|z|    [0.025   0.975]\n",
       "-------------------------------------------------------------------\n",
       "intercept    -1.9893    0.0089  -223.7628  0.0000  -2.0067  -1.9718\n",
       "ab_page      -0.0149    0.0114    -1.3069  0.1912  -0.0374   0.0075\n",
       "CA           -0.0408    0.0269    -1.5161  0.1295  -0.0934   0.0119\n",
       "UK            0.0099    0.0133     0.7433  0.4573  -0.0162   0.0359\n",
       "==================================================================\n",
       "\n",
       "\"\"\""
      ]
     },
     "execution_count": 53,
     "metadata": {},
     "output_type": "execute_result"
    }
   ],
   "source": [
    "log_mod = sm.Logit(df3['converted'], df3[['intercept', 'ab_page','CA','UK']])\n",
    "results = log_mod.fit()\n",
    "results.summary2()"
   ]
  },
  {
   "cell_type": "markdown",
   "metadata": {},
   "source": [
    "Does it appear that country had an impact on conversion? \n",
    "**Looks like ab_page p value stayed around 0.19. As for CA and UK p values, both values are greater than the 0.05 error rate which means that Country does not have an impact on conversion.**"
   ]
  },
  {
   "cell_type": "markdown",
   "metadata": {
    "collapsed": true
   },
   "source": [
    "h. Though you have now looked at the individual factors of country and page on conversion, we would now like to look at an interaction between page and country to see if there significant effects on conversion.  Create the necessary additional columns, and fit the new model.  \n",
    "\n",
    "Provide the summary results, and your conclusions based on the results."
   ]
  },
  {
   "cell_type": "code",
   "execution_count": 59,
   "metadata": {
    "scrolled": true
   },
   "outputs": [
    {
     "data": {
      "text/html": [
       "<div>\n",
       "<style scoped>\n",
       "    .dataframe tbody tr th:only-of-type {\n",
       "        vertical-align: middle;\n",
       "    }\n",
       "\n",
       "    .dataframe tbody tr th {\n",
       "        vertical-align: top;\n",
       "    }\n",
       "\n",
       "    .dataframe thead th {\n",
       "        text-align: right;\n",
       "    }\n",
       "</style>\n",
       "<table border=\"1\" class=\"dataframe\">\n",
       "  <thead>\n",
       "    <tr style=\"text-align: right;\">\n",
       "      <th></th>\n",
       "      <th>country</th>\n",
       "      <th>timestamp</th>\n",
       "      <th>group</th>\n",
       "      <th>landing_page</th>\n",
       "      <th>converted</th>\n",
       "      <th>intercept</th>\n",
       "      <th>ab_page</th>\n",
       "      <th>CA</th>\n",
       "      <th>UK</th>\n",
       "      <th>US</th>\n",
       "      <th>new_page</th>\n",
       "      <th>US_new</th>\n",
       "      <th>CA_new</th>\n",
       "      <th>UK_new</th>\n",
       "    </tr>\n",
       "    <tr>\n",
       "      <th>user_id</th>\n",
       "      <th></th>\n",
       "      <th></th>\n",
       "      <th></th>\n",
       "      <th></th>\n",
       "      <th></th>\n",
       "      <th></th>\n",
       "      <th></th>\n",
       "      <th></th>\n",
       "      <th></th>\n",
       "      <th></th>\n",
       "      <th></th>\n",
       "      <th></th>\n",
       "      <th></th>\n",
       "      <th></th>\n",
       "    </tr>\n",
       "  </thead>\n",
       "  <tbody>\n",
       "    <tr>\n",
       "      <th>834778</th>\n",
       "      <td>UK</td>\n",
       "      <td>2017-01-14 23:08:43.304998</td>\n",
       "      <td>control</td>\n",
       "      <td>old_page</td>\n",
       "      <td>0</td>\n",
       "      <td>1</td>\n",
       "      <td>0</td>\n",
       "      <td>0</td>\n",
       "      <td>1</td>\n",
       "      <td>0</td>\n",
       "      <td>0</td>\n",
       "      <td>0</td>\n",
       "      <td>0</td>\n",
       "      <td>0</td>\n",
       "    </tr>\n",
       "    <tr>\n",
       "      <th>928468</th>\n",
       "      <td>US</td>\n",
       "      <td>2017-01-23 14:44:16.387854</td>\n",
       "      <td>treatment</td>\n",
       "      <td>new_page</td>\n",
       "      <td>0</td>\n",
       "      <td>1</td>\n",
       "      <td>1</td>\n",
       "      <td>0</td>\n",
       "      <td>0</td>\n",
       "      <td>1</td>\n",
       "      <td>1</td>\n",
       "      <td>1</td>\n",
       "      <td>0</td>\n",
       "      <td>0</td>\n",
       "    </tr>\n",
       "    <tr>\n",
       "      <th>822059</th>\n",
       "      <td>UK</td>\n",
       "      <td>2017-01-16 14:04:14.719771</td>\n",
       "      <td>treatment</td>\n",
       "      <td>new_page</td>\n",
       "      <td>1</td>\n",
       "      <td>1</td>\n",
       "      <td>1</td>\n",
       "      <td>0</td>\n",
       "      <td>1</td>\n",
       "      <td>0</td>\n",
       "      <td>1</td>\n",
       "      <td>0</td>\n",
       "      <td>0</td>\n",
       "      <td>1</td>\n",
       "    </tr>\n",
       "    <tr>\n",
       "      <th>711597</th>\n",
       "      <td>UK</td>\n",
       "      <td>2017-01-22 03:14:24.763511</td>\n",
       "      <td>control</td>\n",
       "      <td>old_page</td>\n",
       "      <td>0</td>\n",
       "      <td>1</td>\n",
       "      <td>0</td>\n",
       "      <td>0</td>\n",
       "      <td>1</td>\n",
       "      <td>0</td>\n",
       "      <td>0</td>\n",
       "      <td>0</td>\n",
       "      <td>0</td>\n",
       "      <td>0</td>\n",
       "    </tr>\n",
       "    <tr>\n",
       "      <th>710616</th>\n",
       "      <td>UK</td>\n",
       "      <td>2017-01-16 13:14:44.000513</td>\n",
       "      <td>treatment</td>\n",
       "      <td>new_page</td>\n",
       "      <td>0</td>\n",
       "      <td>1</td>\n",
       "      <td>1</td>\n",
       "      <td>0</td>\n",
       "      <td>1</td>\n",
       "      <td>0</td>\n",
       "      <td>1</td>\n",
       "      <td>0</td>\n",
       "      <td>0</td>\n",
       "      <td>1</td>\n",
       "    </tr>\n",
       "  </tbody>\n",
       "</table>\n",
       "</div>"
      ],
      "text/plain": [
       "        country                   timestamp      group landing_page  \\\n",
       "user_id                                                               \n",
       "834778       UK  2017-01-14 23:08:43.304998    control     old_page   \n",
       "928468       US  2017-01-23 14:44:16.387854  treatment     new_page   \n",
       "822059       UK  2017-01-16 14:04:14.719771  treatment     new_page   \n",
       "711597       UK  2017-01-22 03:14:24.763511    control     old_page   \n",
       "710616       UK  2017-01-16 13:14:44.000513  treatment     new_page   \n",
       "\n",
       "         converted  intercept  ab_page  CA  UK  US  new_page  US_new  CA_new  \\\n",
       "user_id                                                                        \n",
       "834778           0          1        0   0   1   0         0       0       0   \n",
       "928468           0          1        1   0   0   1         1       1       0   \n",
       "822059           1          1        1   0   1   0         1       0       0   \n",
       "711597           0          1        0   0   1   0         0       0       0   \n",
       "710616           0          1        1   0   1   0         1       0       0   \n",
       "\n",
       "         UK_new  \n",
       "user_id          \n",
       "834778        0  \n",
       "928468        0  \n",
       "822059        1  \n",
       "711597        0  \n",
       "710616        1  "
      ]
     },
     "execution_count": 59,
     "metadata": {},
     "output_type": "execute_result"
    }
   ],
   "source": [
    "df3['new_page'] = pd.get_dummies(df3['landing_page'])['new_page']\n",
    "df3['US_new'] = df3['US'] * df3['new_page']\n",
    "df3['CA_new'] = df3['CA'] * df3['new_page']\n",
    "df3['UK_new'] = df3['UK'] * df3['new_page']\n",
    "\n",
    "df3.head()"
   ]
  },
  {
   "cell_type": "code",
   "execution_count": 60,
   "metadata": {
    "scrolled": true
   },
   "outputs": [
    {
     "name": "stdout",
     "output_type": "stream",
     "text": [
      "Optimization terminated successfully.\n",
      "         Current function value: 0.366113\n",
      "         Iterations 6\n"
     ]
    },
    {
     "data": {
      "text/html": [
       "<table class=\"simpletable\">\n",
       "<tr>\n",
       "        <td>Model:</td>              <td>Logit</td>       <td>No. Iterations:</td>    <td>6.0000</td>   \n",
       "</tr>\n",
       "<tr>\n",
       "  <td>Dependent Variable:</td>     <td>converted</td>    <td>Pseudo R-squared:</td>    <td>0.000</td>   \n",
       "</tr>\n",
       "<tr>\n",
       "         <td>Date:</td>        <td>2020-10-16 11:48</td>       <td>AIC:</td>        <td>212779.0384</td>\n",
       "</tr>\n",
       "<tr>\n",
       "   <td>No. Observations:</td>       <td>290584</td>            <td>BIC:</td>        <td>212810.7773</td>\n",
       "</tr>\n",
       "<tr>\n",
       "       <td>Df Model:</td>              <td>2</td>         <td>Log-Likelihood:</td>  <td>-1.0639e+05</td>\n",
       "</tr>\n",
       "<tr>\n",
       "     <td>Df Residuals:</td>         <td>290581</td>          <td>LL-Null:</td>      <td>-1.0639e+05</td>\n",
       "</tr>\n",
       "<tr>\n",
       "      <td>Converged:</td>           <td>1.0000</td>           <td>Scale:</td>         <td>1.0000</td>   \n",
       "</tr>\n",
       "</table>\n",
       "<table class=\"simpletable\">\n",
       "<tr>\n",
       "      <td></td>       <th>Coef.</th>  <th>Std.Err.</th>     <th>z</th>      <th>P>|z|</th> <th>[0.025</th>  <th>0.975]</th> \n",
       "</tr>\n",
       "<tr>\n",
       "  <th>intercept</th> <td>-1.9963</td>  <td>0.0062</td>  <td>-322.0487</td> <td>0.0000</td> <td>-2.0084</td> <td>-1.9841</td>\n",
       "</tr>\n",
       "<tr>\n",
       "  <th>UK_new</th>    <td>0.0149</td>   <td>0.0173</td>   <td>0.8617</td>   <td>0.3888</td> <td>-0.0190</td> <td>0.0488</td> \n",
       "</tr>\n",
       "<tr>\n",
       "  <th>CA_new</th>    <td>-0.0752</td>  <td>0.0376</td>   <td>-1.9974</td>  <td>0.0458</td> <td>-0.1489</td> <td>-0.0014</td>\n",
       "</tr>\n",
       "</table>"
      ],
      "text/plain": [
       "<class 'statsmodels.iolib.summary2.Summary'>\n",
       "\"\"\"\n",
       "                          Results: Logit\n",
       "==================================================================\n",
       "Model:              Logit            No. Iterations:   6.0000     \n",
       "Dependent Variable: converted        Pseudo R-squared: 0.000      \n",
       "Date:               2020-10-16 11:48 AIC:              212779.0384\n",
       "No. Observations:   290584           BIC:              212810.7773\n",
       "Df Model:           2                Log-Likelihood:   -1.0639e+05\n",
       "Df Residuals:       290581           LL-Null:          -1.0639e+05\n",
       "Converged:          1.0000           Scale:            1.0000     \n",
       "-------------------------------------------------------------------\n",
       "              Coef.   Std.Err.      z      P>|z|    [0.025   0.975]\n",
       "-------------------------------------------------------------------\n",
       "intercept    -1.9963    0.0062  -322.0487  0.0000  -2.0084  -1.9841\n",
       "UK_new        0.0149    0.0173     0.8617  0.3888  -0.0190   0.0488\n",
       "CA_new       -0.0752    0.0376    -1.9974  0.0458  -0.1489  -0.0014\n",
       "==================================================================\n",
       "\n",
       "\"\"\""
      ]
     },
     "execution_count": 60,
     "metadata": {},
     "output_type": "execute_result"
    }
   ],
   "source": [
    "log_mod = sm.Logit(df3['converted'], df3[['intercept', 'UK_new', \"CA_new\"]])\n",
    "results = log_mod.fit()\n",
    "results.summary2()"
   ]
  },
  {
   "cell_type": "markdown",
   "metadata": {},
   "source": [
    "**Response:** We are taking US_new (which is a calculated column to represent the relationship between Page and Country) as our baseline. Looking at the logistic regression summary above, we can conclude that there is indeed a relationship between new page conversions and counries, as Canada's P value is lower than the threshold of 0.05, and we can see a difference (albeit, insignificant) in coefficients as compared to our baseline. Hence, we reject the null hypothesis which claims 0 dependencies.\n",
    "<br>\n",
    "<p>\n",
    "After conducting multistep analysis and approaching the problem from different angles, we have failed to reject the null hypothesis, which states that the new page converstion rate will be lower or equal to that of the old page. We recommend against launching the new page and sticking with the old one instead.\n"
   ]
  }
 ],
 "metadata": {
  "kernelspec": {
   "display_name": "Python 3",
   "language": "python",
   "name": "python3"
  },
  "language_info": {
   "codemirror_mode": {
    "name": "ipython",
    "version": 3
   },
   "file_extension": ".py",
   "mimetype": "text/x-python",
   "name": "python",
   "nbconvert_exporter": "python",
   "pygments_lexer": "ipython3",
   "version": "3.6.3"
  }
 },
 "nbformat": 4,
 "nbformat_minor": 2
}
